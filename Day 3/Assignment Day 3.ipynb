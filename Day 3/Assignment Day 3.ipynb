{
 "cells": [
  {
   "cell_type": "code",
   "execution_count": 6,
   "id": "f360017d-7435-4814-98fb-036c1134c46a",
   "metadata": {},
   "outputs": [],
   "source": [
    "from mathhelper import is_prime, factorial, fibonacci"
   ]
  },
  {
   "cell_type": "code",
   "execution_count": 7,
   "id": "790919cf-da0d-4d36-873f-f50588cdd500",
   "metadata": {},
   "outputs": [
    {
     "name": "stdout",
     "output_type": "stream",
     "text": [
      "Is 7 prime? True\n"
     ]
    }
   ],
   "source": [
    "print(\"Is 7 prime?\", is_prime(7)) "
   ]
  },
  {
   "cell_type": "code",
   "execution_count": 8,
   "id": "c043385c-e252-4d91-b90b-ebddd39c5b47",
   "metadata": {},
   "outputs": [
    {
     "name": "stdout",
     "output_type": "stream",
     "text": [
      "Factorial of 5: 120\n"
     ]
    }
   ],
   "source": [
    "print(\"Factorial of 5:\", factorial(5)) "
   ]
  },
  {
   "cell_type": "code",
   "execution_count": 9,
   "id": "dd7a7a10-70dc-4987-944b-c5a473719c1a",
   "metadata": {},
   "outputs": [
    {
     "name": "stdout",
     "output_type": "stream",
     "text": [
      "Fibonacci of 7: 13\n"
     ]
    }
   ],
   "source": [
    "print(\"Fibonacci of 7:\", fibonacci(7))  "
   ]
  },
  {
   "cell_type": "code",
   "execution_count": 12,
   "id": "8e9686a8-7cd2-42df-91f0-b7e792c112ad",
   "metadata": {},
   "outputs": [],
   "source": [
    "def calculate():\n",
    "    while True:\n",
    "        try:\n",
    "            operation = input(\"Choose an operation (+, -, *, /) or 'exit' to quit: \")\n",
    "            if operation.lower() == 'exit':\n",
    "                print(\"Exiting the calculator.\")\n",
    "                break\n",
    "            first_number = float(input(\"Enter the first number: \"))\n",
    "            second_number = float(input(\"Enter the second number: \"))\n",
    "            if operation == '+':\n",
    "                result = first_number + second_number\n",
    "            elif operation == '-':\n",
    "                result = first_number - second_number\n",
    "            elif operation == '*':\n",
    "                result = first_number * second_number\n",
    "            elif operation == '/':\n",
    "                if second_number == 0:\n",
    "                    raise ZeroDivisionError(\"You cannot divide by zero.\")\n",
    "                result = first_number / second_number\n",
    "            else:\n",
    "                print(\"Invalid operation. Please try again.\")\n",
    "                continue\n",
    "            print(f\"The result of {first_number} {operation} {second_number} = {result}\")\n",
    "        except ValueError:\n",
    "            print(\"Invalid input. Please enter numeric values.\")\n",
    "        except ZeroDivisionError as e:\n",
    "            print(e)"
   ]
  },
  {
   "cell_type": "code",
   "execution_count": 13,
   "id": "13e89e60-ac43-4ff1-b200-4325afce6021",
   "metadata": {},
   "outputs": [
    {
     "name": "stdin",
     "output_type": "stream",
     "text": [
      "Choose an operation (+, -, *, /) or 'exit' to quit:  +\n",
      "Enter the first number:  899\n",
      "Enter the second number:  67\n"
     ]
    },
    {
     "name": "stdout",
     "output_type": "stream",
     "text": [
      "The result of 899.0 + 67.0 = 966.0\n"
     ]
    },
    {
     "name": "stdin",
     "output_type": "stream",
     "text": [
      "Choose an operation (+, -, *, /) or 'exit' to quit:  exit\n"
     ]
    },
    {
     "name": "stdout",
     "output_type": "stream",
     "text": [
      "Exiting the calculator.\n"
     ]
    }
   ],
   "source": [
    "calculate()"
   ]
  },
  {
   "cell_type": "code",
   "execution_count": 14,
   "id": "c76486be-49ce-49a9-aa03-8ce4e43a0e0f",
   "metadata": {},
   "outputs": [
    {
     "name": "stdout",
     "output_type": "stream",
     "text": [
      "\n",
      "First 5 lines:\n",
      "1: def is_prime(n):\n",
      "2: \"\"\"Check if a number is prime.\"\"\"\n",
      "3: if n <= 1:\n",
      "4: return False\n",
      "5: for i in range(2, int(n**0.5) + 1):\n"
     ]
    }
   ],
   "source": [
    "def read_file_lines(filename):\n",
    "    try:\n",
    "        with open(filename, 'r') as file:\n",
    "            print(\"\\nFirst 5 lines:\")\n",
    "            for i in range(5):\n",
    "                line = file.readline()\n",
    "                if line:\n",
    "                    print(f\"{i+1}: {line.strip()}\")\n",
    "                else:\n",
    "                    break\n",
    "    except FileNotFoundError:\n",
    "        print(\" File not found!\")\n",
    "read_file_lines(\"mathhelper.py\")"
   ]
  },
  {
   "cell_type": "code",
   "execution_count": null,
   "id": "af3592fb-16f1-4add-9cac-98f771fb64d6",
   "metadata": {},
   "outputs": [
    {
     "name": "stdin",
     "output_type": "stream",
     "text": [
      "What is the largest planet in our solar system?  Jupiter\n"
     ]
    }
   ],
   "source": [
    "def play_quiz():\n",
    "    score = 0\n",
    "    try:\n",
    "        with open(\"quiz.txt\", 'r') as file:\n",
    "            for line in file:\n",
    "                q, ans = line.strip().split(',')\n",
    "                user_ans = input(q + \" \")\n",
    "                if user_ans.strip().lower() == ans.strip().lower():\n",
    "                    score += 1\n",
    "        with open(\"score.txt\", 'w') as score_file:\n",
    "            score_file.write(f\"Score: {score}\\n\")\n",
    "        print(f\"\\n Your score is: {score}\")\n",
    "    except Exception as e:\n",
    "        print(\"Error:\", e)\n",
    "play_quiz()"
   ]
  },
  {
   "cell_type": "code",
   "execution_count": 16,
   "id": "739f6045-cffe-4e7b-8bf4-3352699a744a",
   "metadata": {},
   "outputs": [
    {
     "name": "stdin",
     "output_type": "stream",
     "text": [
      "Enter a number:  7\n"
     ]
    },
    {
     "name": "stdout",
     "output_type": "stream",
     "text": [
      "Result: 1.4285714285714286\n",
      " Cleanup done.\n"
     ]
    }
   ],
   "source": [
    "import datetime\n",
    "def error_code():\n",
    "    try:\n",
    "        x = int(input(\"Enter a number: \"))\n",
    "        y = 10 / x\n",
    "        print(\"Result:\", y)\n",
    "    except Exception as e:\n",
    "        with open(\"error_log.txt\", 'a') as log:\n",
    "            log.write(f\"{datetime.datetime.now()} - {type(e).__name__}: {e}\\n\")\n",
    "        print(\" An error occurred. Logged to file.\")\n",
    "    finally:\n",
    "        print(\" Cleanup done.\")\n",
    "error_code()"
   ]
  }
 ],
 "metadata": {
  "kernelspec": {
   "display_name": "Python [conda env:base] *",
   "language": "python",
   "name": "conda-base-py"
  },
  "language_info": {
   "codemirror_mode": {
    "name": "ipython",
    "version": 3
   },
   "file_extension": ".py",
   "mimetype": "text/x-python",
   "name": "python",
   "nbconvert_exporter": "python",
   "pygments_lexer": "ipython3",
   "version": "3.13.5"
  }
 },
 "nbformat": 4,
 "nbformat_minor": 5
}
