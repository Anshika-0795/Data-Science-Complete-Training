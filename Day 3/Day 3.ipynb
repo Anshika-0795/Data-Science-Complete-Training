{
 "cells": [
  {
   "cell_type": "code",
   "execution_count": 4,
   "id": "83fdfab5-ba4a-4a90-ab21-bded4fd141ad",
   "metadata": {},
   "outputs": [
    {
     "name": "stdout",
     "output_type": "stream",
     "text": [
      "Invalid code!!\n"
     ]
    }
   ],
   "source": [
    "# Exception handling\n",
    "\n",
    "\n",
    "age = '23'\n",
    "\n",
    "try:\n",
    "  print(1/0)\n",
    "  if age >= 18:\n",
    "    print('can vote')\n",
    "  else:\n",
    "    print('can\\'t vote')\n",
    "except TypeError:\n",
    "  print('Something went wrong!!')\n",
    "  print('Invalid datatype comparison!!')\n",
    "\n",
    "except:\n",
    "  print('Invalid code!!')"
   ]
  },
  {
   "cell_type": "code",
   "execution_count": 1,
   "id": "1e1dad6d-e76a-4d62-b60f-5d0d5cad20da",
   "metadata": {},
   "outputs": [],
   "source": [
    "def show_time():\n",
    "    try:\n",
    "      while True:\n",
    "        import time\n",
    "        print(time.asctime())\n",
    "        time.sleep(1)\n",
    "        display(clear = True)\n",
    "    except:\n",
    "        print('Timer has been stopped!!')"
   ]
  },
  {
   "cell_type": "code",
   "execution_count": 2,
   "id": "1a0c4416-a9ba-4f20-a213-67e8acb2bdad",
   "metadata": {},
   "outputs": [
    {
     "name": "stdout",
     "output_type": "stream",
     "text": [
      "Fri Jul  4 10:45:27 2025\n",
      "Timer has been stopped!!\n"
     ]
    }
   ],
   "source": [
    "show_time()"
   ]
  },
  {
   "cell_type": "code",
   "execution_count": 3,
   "id": "e3b0ae5b-3ecc-42c8-8fd9-0cf866eb09db",
   "metadata": {},
   "outputs": [],
   "source": [
    "def student_records(**kwargs):\n",
    "  import pandas as pd\n",
    "  try:\n",
    "    data = pd.DataFrame(kwargs)\n",
    "    return data\n",
    "  except:\n",
    "    data = pd.DataFrame(kwargs,index = [1])\n",
    "    return data"
   ]
  },
  {
   "cell_type": "code",
   "execution_count": 4,
   "id": "cde5b0cb-eb80-49cb-97fb-9fdc47a8b2c1",
   "metadata": {},
   "outputs": [
    {
     "data": {
      "text/html": [
       "<div>\n",
       "<style scoped>\n",
       "    .dataframe tbody tr th:only-of-type {\n",
       "        vertical-align: middle;\n",
       "    }\n",
       "\n",
       "    .dataframe tbody tr th {\n",
       "        vertical-align: top;\n",
       "    }\n",
       "\n",
       "    .dataframe thead th {\n",
       "        text-align: right;\n",
       "    }\n",
       "</style>\n",
       "<table border=\"1\" class=\"dataframe\">\n",
       "  <thead>\n",
       "    <tr style=\"text-align: right;\">\n",
       "      <th></th>\n",
       "      <th>Name</th>\n",
       "      <th>Age</th>\n",
       "      <th>Address</th>\n",
       "    </tr>\n",
       "  </thead>\n",
       "  <tbody>\n",
       "    <tr>\n",
       "      <th>1</th>\n",
       "      <td>Anshika</td>\n",
       "      <td>19</td>\n",
       "      <td>UP</td>\n",
       "    </tr>\n",
       "  </tbody>\n",
       "</table>\n",
       "</div>"
      ],
      "text/plain": [
       "      Name  Age Address\n",
       "1  Anshika   19      UP"
      ]
     },
     "execution_count": 4,
     "metadata": {},
     "output_type": "execute_result"
    }
   ],
   "source": [
    "student_records(Name = 'Anshika',Age = 19,Address = 'UP')"
   ]
  },
  {
   "cell_type": "code",
   "execution_count": 5,
   "id": "e53554b5-f78b-4e0c-88b2-4f739a02aa48",
   "metadata": {},
   "outputs": [
    {
     "data": {
      "text/html": [
       "<div>\n",
       "<style scoped>\n",
       "    .dataframe tbody tr th:only-of-type {\n",
       "        vertical-align: middle;\n",
       "    }\n",
       "\n",
       "    .dataframe tbody tr th {\n",
       "        vertical-align: top;\n",
       "    }\n",
       "\n",
       "    .dataframe thead th {\n",
       "        text-align: right;\n",
       "    }\n",
       "</style>\n",
       "<table border=\"1\" class=\"dataframe\">\n",
       "  <thead>\n",
       "    <tr style=\"text-align: right;\">\n",
       "      <th></th>\n",
       "      <th>Name</th>\n",
       "      <th>Age</th>\n",
       "      <th>Address</th>\n",
       "    </tr>\n",
       "  </thead>\n",
       "  <tbody>\n",
       "    <tr>\n",
       "      <th>0</th>\n",
       "      <td>Anshika</td>\n",
       "      <td>19</td>\n",
       "      <td>UP</td>\n",
       "    </tr>\n",
       "    <tr>\n",
       "      <th>1</th>\n",
       "      <td>Nameesh</td>\n",
       "      <td>20</td>\n",
       "      <td>Haryana</td>\n",
       "    </tr>\n",
       "    <tr>\n",
       "      <th>2</th>\n",
       "      <td>Vanshika</td>\n",
       "      <td>20</td>\n",
       "      <td>Delhi</td>\n",
       "    </tr>\n",
       "  </tbody>\n",
       "</table>\n",
       "</div>"
      ],
      "text/plain": [
       "       Name  Age  Address\n",
       "0   Anshika   19       UP\n",
       "1   Nameesh   20  Haryana\n",
       "2  Vanshika   20    Delhi"
      ]
     },
     "execution_count": 5,
     "metadata": {},
     "output_type": "execute_result"
    }
   ],
   "source": [
    "student_records(Name = ['Anshika','Nameesh','Vanshika'],\n",
    "                Age = [19,20,20],\n",
    "                Address = ['UP','Haryana','Delhi'])"
   ]
  },
  {
   "cell_type": "code",
   "execution_count": 6,
   "id": "8aafe44a-7398-4097-b770-fa52ab295225",
   "metadata": {},
   "outputs": [
    {
     "data": {
      "text/html": [
       "<div>\n",
       "<style scoped>\n",
       "    .dataframe tbody tr th:only-of-type {\n",
       "        vertical-align: middle;\n",
       "    }\n",
       "\n",
       "    .dataframe tbody tr th {\n",
       "        vertical-align: top;\n",
       "    }\n",
       "\n",
       "    .dataframe thead th {\n",
       "        text-align: right;\n",
       "    }\n",
       "</style>\n",
       "<table border=\"1\" class=\"dataframe\">\n",
       "  <thead>\n",
       "    <tr style=\"text-align: right;\">\n",
       "      <th></th>\n",
       "      <th>Name</th>\n",
       "      <th>Age</th>\n",
       "      <th>Address</th>\n",
       "      <th>Sec</th>\n",
       "    </tr>\n",
       "  </thead>\n",
       "  <tbody>\n",
       "    <tr>\n",
       "      <th>0</th>\n",
       "      <td>Anshika</td>\n",
       "      <td>19</td>\n",
       "      <td>UP</td>\n",
       "      <td>A</td>\n",
       "    </tr>\n",
       "    <tr>\n",
       "      <th>1</th>\n",
       "      <td>Nameesh</td>\n",
       "      <td>20</td>\n",
       "      <td>Haryana</td>\n",
       "      <td>B</td>\n",
       "    </tr>\n",
       "    <tr>\n",
       "      <th>2</th>\n",
       "      <td>Vanshika</td>\n",
       "      <td>20</td>\n",
       "      <td>Delhi</td>\n",
       "      <td>C</td>\n",
       "    </tr>\n",
       "  </tbody>\n",
       "</table>\n",
       "</div>"
      ],
      "text/plain": [
       "       Name  Age  Address Sec\n",
       "0   Anshika   19       UP   A\n",
       "1   Nameesh   20  Haryana   B\n",
       "2  Vanshika   20    Delhi   C"
      ]
     },
     "execution_count": 6,
     "metadata": {},
     "output_type": "execute_result"
    }
   ],
   "source": [
    "student_records(Name = ['Anshika','Nameesh','Vanshika'],\n",
    "                Age = [19,20,20],\n",
    "                Address = ['UP','Haryana','Delhi'],\n",
    "                Sec = list('ABC'))"
   ]
  },
  {
   "cell_type": "code",
   "execution_count": null,
   "id": "a13fa53b-1033-43c5-b06e-9997ce850702",
   "metadata": {},
   "outputs": [],
   "source": []
  },
  {
   "cell_type": "code",
   "execution_count": null,
   "id": "3f104e18-97d5-4f8f-907d-2f69ebaa5a83",
   "metadata": {},
   "outputs": [],
   "source": []
  },
  {
   "cell_type": "code",
   "execution_count": null,
   "id": "a80f0962-b8df-46ed-9cbe-5570a1cc5234",
   "metadata": {},
   "outputs": [],
   "source": []
  },
  {
   "cell_type": "code",
   "execution_count": null,
   "id": "55ebfb28-2ec2-44fb-aef3-4e100ad58deb",
   "metadata": {},
   "outputs": [],
   "source": []
  },
  {
   "cell_type": "code",
   "execution_count": 1,
   "id": "705696eb-baa0-4b72-ae7b-be286adcf95a",
   "metadata": {},
   "outputs": [
    {
     "name": "stdout",
     "output_type": "stream",
     "text": [
      "This is Anshika Module in Python\n",
      "Info: https://www.google.com/\n",
      "Done\n"
     ]
    }
   ],
   "source": [
    "import Anshika as a\n",
    "print('Done')"
   ]
  },
  {
   "cell_type": "code",
   "execution_count": 2,
   "id": "3574f7f6-1023-4b3b-9673-4c3cdd463048",
   "metadata": {},
   "outputs": [],
   "source": [
    "#import math as m\n",
    "#import random as r"
   ]
  },
  {
   "cell_type": "code",
   "execution_count": 4,
   "id": "1c7e28d8-e549-480c-9520-97c62df375ee",
   "metadata": {},
   "outputs": [],
   "source": [
    "import Anshika as a"
   ]
  },
  {
   "cell_type": "code",
   "execution_count": 5,
   "id": "a24b50be-2aa6-4fc5-9055-dac0e9026f69",
   "metadata": {},
   "outputs": [
    {
     "name": "stdout",
     "output_type": "stream",
     "text": [
      "      % \n",
      "     % % \n",
      "    % % % \n",
      "   % % % % \n",
      "  % % % % % \n",
      " % % % % % % \n",
      "% % % % % % % \n"
     ]
    }
   ],
   "source": [
    "a.print_star(n = 7,typ = 'mid',shape='%')"
   ]
  },
  {
   "cell_type": "code",
   "execution_count": 6,
   "id": "347d2596-9178-4d5a-a25e-084c5c0d0649",
   "metadata": {},
   "outputs": [
    {
     "name": "stdout",
     "output_type": "stream",
     "text": [
      "* \n",
      "* * \n",
      "* * * \n",
      "* * * * \n",
      "* * * * * \n",
      "* * * * * * \n",
      "* * * * * * * \n"
     ]
    }
   ],
   "source": [
    "a.print_star(n = 7)"
   ]
  },
  {
   "cell_type": "code",
   "execution_count": 9,
   "id": "3584de20-232f-4058-bb9d-426dce1e642e",
   "metadata": {},
   "outputs": [
    {
     "data": {
      "text/plain": [
       "5040"
      ]
     },
     "execution_count": 9,
     "metadata": {},
     "output_type": "execute_result"
    }
   ],
   "source": [
    "a.factorial(7)"
   ]
  },
  {
   "cell_type": "code",
   "execution_count": 10,
   "id": "196d475a-345c-42e9-9b76-b71bc0ac7781",
   "metadata": {},
   "outputs": [
    {
     "data": {
      "text/plain": [
       "'Invalid Data Type'"
      ]
     },
     "execution_count": 10,
     "metadata": {},
     "output_type": "execute_result"
    }
   ],
   "source": [
    "a.check_palindrome(89)"
   ]
  },
  {
   "cell_type": "code",
   "execution_count": 11,
   "id": "98e1ab2d-9fe9-4a94-bc50-a5802ae78ad1",
   "metadata": {},
   "outputs": [
    {
     "data": {
      "text/plain": [
       "'Not a Prime Number'"
      ]
     },
     "execution_count": 11,
     "metadata": {},
     "output_type": "execute_result"
    }
   ],
   "source": [
    "a.check_prime(7888)"
   ]
  },
  {
   "cell_type": "code",
   "execution_count": 13,
   "id": "8ecba7f4-bbed-457c-b569-5dfc764bdee0",
   "metadata": {},
   "outputs": [
    {
     "data": {
      "text/plain": [
       "[0, 1, 1, 2, 3]"
      ]
     },
     "execution_count": 13,
     "metadata": {},
     "output_type": "execute_result"
    }
   ],
   "source": [
    "a.give_fibo(5)"
   ]
  },
  {
   "cell_type": "code",
   "execution_count": 15,
   "id": "2570a419-3047-4b73-a193-e2b384bcb966",
   "metadata": {},
   "outputs": [
    {
     "data": {
      "text/plain": [
       "876"
      ]
     },
     "execution_count": 15,
     "metadata": {},
     "output_type": "execute_result"
    }
   ],
   "source": [
    "a.maxx(89,65,455,876)"
   ]
  },
  {
   "cell_type": "code",
   "execution_count": 17,
   "id": "9ba9f569-13d4-4dcc-9a59-5906422cb03f",
   "metadata": {},
   "outputs": [
    {
     "data": {
      "text/plain": [
       "89"
      ]
     },
     "execution_count": 17,
     "metadata": {},
     "output_type": "execute_result"
    }
   ],
   "source": [
    "a.minn(566,89,56767,8998)"
   ]
  },
  {
   "cell_type": "code",
   "execution_count": 18,
   "id": "e631eab3-3ece-45b4-8a25-b9d8dc3b96eb",
   "metadata": {},
   "outputs": [
    {
     "data": {
      "text/plain": [
       "36"
      ]
     },
     "execution_count": 18,
     "metadata": {},
     "output_type": "execute_result"
    }
   ],
   "source": [
    "a.sum_of_n_natural_numbers(8)"
   ]
  },
  {
   "cell_type": "code",
   "execution_count": 22,
   "id": "cb812ec8-2386-42a2-9391-eef79edce4f7",
   "metadata": {},
   "outputs": [
    {
     "data": {
      "text/plain": [
       "78"
      ]
     },
     "execution_count": 22,
     "metadata": {},
     "output_type": "execute_result"
    }
   ],
   "source": [
    "a.total_sales(78)"
   ]
  },
  {
   "cell_type": "code",
   "execution_count": 30,
   "id": "59208ad5-962a-482b-9750-d263fc33f3fd",
   "metadata": {},
   "outputs": [
    {
     "data": {
      "text/html": [
       "<div>\n",
       "<style scoped>\n",
       "    .dataframe tbody tr th:only-of-type {\n",
       "        vertical-align: middle;\n",
       "    }\n",
       "\n",
       "    .dataframe tbody tr th {\n",
       "        vertical-align: top;\n",
       "    }\n",
       "\n",
       "    .dataframe thead th {\n",
       "        text-align: right;\n",
       "    }\n",
       "</style>\n",
       "<table border=\"1\" class=\"dataframe\">\n",
       "  <thead>\n",
       "    <tr style=\"text-align: right;\">\n",
       "      <th></th>\n",
       "      <th>Name</th>\n",
       "      <th>Age</th>\n",
       "      <th>Address</th>\n",
       "    </tr>\n",
       "  </thead>\n",
       "  <tbody>\n",
       "    <tr>\n",
       "      <th>1</th>\n",
       "      <td>Anshika</td>\n",
       "      <td>19</td>\n",
       "      <td>UP</td>\n",
       "    </tr>\n",
       "  </tbody>\n",
       "</table>\n",
       "</div>"
      ],
      "text/plain": [
       "      Name  Age Address\n",
       "1  Anshika   19      UP"
      ]
     },
     "execution_count": 30,
     "metadata": {},
     "output_type": "execute_result"
    }
   ],
   "source": [
    "a.student_records(Name = 'Anshika',Age = 19,Address = 'UP')"
   ]
  },
  {
   "cell_type": "code",
   "execution_count": null,
   "id": "5164f6a7-c5e4-4049-ab0b-aa07d3dcde11",
   "metadata": {},
   "outputs": [
    {
     "name": "stdout",
     "output_type": "stream",
     "text": [
      "Fri Jul  4 13:00:15 2025\n"
     ]
    }
   ],
   "source": [
    "a.show_time()"
   ]
  },
  {
   "cell_type": "code",
   "execution_count": 2,
   "id": "04ebe0b0-2172-43a4-8ccc-ca2fb2be461f",
   "metadata": {},
   "outputs": [
    {
     "name": "stdout",
     "output_type": "stream",
     "text": [
      "Done\n"
     ]
    }
   ],
   "source": [
    "from Anshika import minn\n",
    "print('Done')"
   ]
  },
  {
   "cell_type": "code",
   "execution_count": 3,
   "id": "04b54180-ce12-4613-a6af-d2d33b37966f",
   "metadata": {},
   "outputs": [
    {
     "name": "stdout",
     "output_type": "stream",
     "text": [
      "Done\n"
     ]
    }
   ],
   "source": [
    "from Anshika import *\n",
    "print('Done')"
   ]
  },
  {
   "cell_type": "code",
   "execution_count": 4,
   "id": "cd3e2b7b-8921-497a-9864-a7ab586fee8f",
   "metadata": {},
   "outputs": [
    {
     "data": {
      "text/html": [
       "<div>\n",
       "<style scoped>\n",
       "    .dataframe tbody tr th:only-of-type {\n",
       "        vertical-align: middle;\n",
       "    }\n",
       "\n",
       "    .dataframe tbody tr th {\n",
       "        vertical-align: top;\n",
       "    }\n",
       "\n",
       "    .dataframe thead th {\n",
       "        text-align: right;\n",
       "    }\n",
       "</style>\n",
       "<table border=\"1\" class=\"dataframe\">\n",
       "  <thead>\n",
       "    <tr style=\"text-align: right;\">\n",
       "      <th></th>\n",
       "      <th>Name</th>\n",
       "      <th>Age</th>\n",
       "      <th>Address</th>\n",
       "    </tr>\n",
       "  </thead>\n",
       "  <tbody>\n",
       "    <tr>\n",
       "      <th>1</th>\n",
       "      <td>Anshika</td>\n",
       "      <td>19</td>\n",
       "      <td>UP</td>\n",
       "    </tr>\n",
       "  </tbody>\n",
       "</table>\n",
       "</div>"
      ],
      "text/plain": [
       "      Name  Age Address\n",
       "1  Anshika   19      UP"
      ]
     },
     "execution_count": 4,
     "metadata": {},
     "output_type": "execute_result"
    }
   ],
   "source": [
    "student_records(Name = 'Anshika',Age = 19,Address = 'UP')"
   ]
  },
  {
   "cell_type": "code",
   "execution_count": 5,
   "id": "78f2795c-5668-4ccf-8af0-6cf9f32f9ac5",
   "metadata": {},
   "outputs": [
    {
     "data": {
      "text/plain": [
       "2278"
      ]
     },
     "execution_count": 5,
     "metadata": {},
     "output_type": "execute_result"
    }
   ],
   "source": [
    "sum_of_n_natural_numbers(67)"
   ]
  },
  {
   "cell_type": "code",
   "execution_count": 6,
   "id": "be6c07f6-1785-4b68-8dbd-4c139c120e42",
   "metadata": {},
   "outputs": [
    {
     "name": "stdout",
     "output_type": "stream",
     "text": [
      "Done\n"
     ]
    }
   ],
   "source": [
    "import turtle\n",
    "print('Done')"
   ]
  },
  {
   "cell_type": "code",
   "execution_count": 2,
   "id": "39784f84-a2e1-4f2f-8fc4-e05c00655116",
   "metadata": {},
   "outputs": [],
   "source": [
    "import turtle\n",
    "for i in range(4):\n",
    "    turtle.circle(100)"
   ]
  },
  {
   "cell_type": "code",
   "execution_count": 3,
   "id": "f1a85868-9409-4c87-8a30-9d1558a5b93d",
   "metadata": {},
   "outputs": [],
   "source": [
    "import turtle\n",
    "for i in range(120):\n",
    "    turtle.speed(0)\n",
    "    turtle.bgcolor('black')\n",
    "    col = ['red','yellow','green','blue','orange']\n",
    "    import random\n",
    "    picked_color = random.choice(col)\n",
    "    turtle.color(picked_color)\n",
    "    turtle.circle(100)\n",
    "    turtle.left(3)"
   ]
  },
  {
   "cell_type": "code",
   "execution_count": 1,
   "id": "4b74010b-4c4a-4e42-8b8d-6e989b61827f",
   "metadata": {},
   "outputs": [],
   "source": [
    "import turtle\n",
    "for i in range(3):\n",
    "    turtle.bgcolor('black')\n",
    "    turtle.color('cyan')\n",
    "    turtle.forward(300)\n",
    "    turtle.left(120)"
   ]
  },
  {
   "cell_type": "code",
   "execution_count": null,
   "id": "4b342bbe-6e20-4620-9bb9-59e9648a7191",
   "metadata": {},
   "outputs": [],
   "source": [
    "#file handling(read,write,copy,append,dlt,open,close,new)\n",
    "#types of file :-\n",
    "#text file [.py,.html,.csv,.tsv,.css,.java,.c,c++,.js,.json] and\n",
    "#binary file [.pdf,.mp3,.mp4,.png,.jpeg,.exe,.zip,.dat,.tar,.xlsx,.ppt,.doc,.ipynb]"
   ]
  },
  {
   "cell_type": "code",
   "execution_count": 3,
   "id": "a2777a6c-6e5b-4d1b-a567-39d4f0f2111e",
   "metadata": {},
   "outputs": [
    {
     "name": "stdout",
     "output_type": "stream",
     "text": [
      "print('''This is Anshika Module in Python\n",
      "Info: https://www.google.com\n"
     ]
    }
   ],
   "source": [
    "#context manager\n",
    "file = open('Anshika.py',mode = 'r')\n",
    "print(file.read(70))"
   ]
  },
  {
   "cell_type": "code",
   "execution_count": 6,
   "id": "e7a85a39-fe6d-4afa-a5db-141e9e9ee547",
   "metadata": {},
   "outputs": [
    {
     "name": "stdout",
     "output_type": "stream",
     "text": [
      "2802503825568\n",
      "2802503825568\n"
     ]
    }
   ],
   "source": [
    "a = 'ajay'\n",
    "b = 'ajay'\n",
    "print(id(a))\n",
    "print(id(b))"
   ]
  },
  {
   "cell_type": "code",
   "execution_count": null,
   "id": "17db5d39-96d5-4e10-b819-a74d98c4b83f",
   "metadata": {},
   "outputs": [],
   "source": []
  },
  {
   "cell_type": "code",
   "execution_count": 8,
   "id": "4b5781f7-0c51-4155-8443-3e062fff37fc",
   "metadata": {},
   "outputs": [],
   "source": [
    "f = open('Anshika.py',mode = 'r')"
   ]
  },
  {
   "cell_type": "code",
   "execution_count": 9,
   "id": "2fbe550b-fe2a-462b-b92a-d127e4cdc6f9",
   "metadata": {},
   "outputs": [
    {
     "name": "stdout",
     "output_type": "stream",
     "text": [
      "print('''This is Anshika Module in Python\n",
      "\n"
     ]
    }
   ],
   "source": [
    "print(f.readline())"
   ]
  },
  {
   "cell_type": "code",
   "execution_count": 10,
   "id": "78ba452b-f272-4fde-884a-d61442ad4e36",
   "metadata": {},
   "outputs": [
    {
     "name": "stdout",
     "output_type": "stream",
     "text": [
      "Done\n"
     ]
    }
   ],
   "source": [
    "f.close()\n",
    "print('Done')"
   ]
  },
  {
   "cell_type": "code",
   "execution_count": 13,
   "id": "95c75951-9f08-4d76-b193-1476393ba071",
   "metadata": {},
   "outputs": [
    {
     "name": "stdout",
     "output_type": "stream",
     "text": [
      "print('''This is Anshika Module in Python\n",
      "\n",
      "Info: https://www.google.com/''')\n",
      "\n",
      "\n",
      "\n",
      "\n",
      "\n",
      "def check_palindrome(word:str):\n",
      "\n",
      "  if type(word) == str:\n",
      "\n",
      "    word = word.upper()\n",
      "\n",
      "    if word == word[::-1]:\n",
      "\n"
     ]
    }
   ],
   "source": [
    "f = open('Anshika.py',mode = 'r')\n",
    "for i in range(8):\n",
    "    print(f.readline())"
   ]
  },
  {
   "cell_type": "code",
   "execution_count": 18,
   "id": "ddb8d83f-7b26-450b-a958-82eb9c9efff6",
   "metadata": {},
   "outputs": [
    {
     "name": "stdout",
     "output_type": "stream",
     "text": [
      "    if word == word[::-1]:\n",
      "\n"
     ]
    }
   ],
   "source": [
    "f = open('Anshika.py',mode = 'r')\n",
    "for i in range(10):\n",
    "    if i == 7: #line no 8\n",
    "        print(f.readline())\n",
    "    else:\n",
    "        f.readline()\n",
    "   "
   ]
  },
  {
   "cell_type": "code",
   "execution_count": 19,
   "id": "6e2fb378-49a2-45b8-ba1e-65df9a5a3bbe",
   "metadata": {},
   "outputs": [
    {
     "name": "stdout",
     "output_type": "stream",
     "text": [
      "done\n"
     ]
    }
   ],
   "source": [
    "f = open('Anshika.py',mode = 'r')\n",
    "data = f.readlines()\n",
    "f.close()\n",
    "print('done')"
   ]
  },
  {
   "cell_type": "code",
   "execution_count": 20,
   "id": "3f05f209-8794-48eb-bfcc-9adf5db3463a",
   "metadata": {},
   "outputs": [
    {
     "name": "stdout",
     "output_type": "stream",
     "text": [
      "[\"print('''This is Anshika Module in Python\\n\", \"Info: https://www.google.com/''')\\n\", '\\n', '\\n', 'def check_palindrome(word:str):\\n', '  if type(word) == str:\\n', '    word = word.upper()\\n', '    if word == word[::-1]:\\n', \"      return 'Palindrome'\\n\", '    else:\\n', \"      return 'Not a Plaindrome'\\n\", '  else:\\n', \"    return 'Invalid Data Type'\\n\", '\\n', 'def give_fibo(n):\\n', '  fibo = [0,1]\\n', '  for i in range(n-2):\\n', '     last_num = fibo[-1]\\n', '     second_last_num = fibo[-2]\\n', '     next_num = last_num + second_last_num\\n', '     fibo.append(next_num)\\n', '  return fibo\\n', '\\n', '\\n', '\\n', 'def check_prime(number):\\n', '    for i in range(2,number):\\n', '        if number % i == 0:\\n', \"            return 'Not a Prime Number'\\n\", '            break\\n', \"            print('Happy Holi')\\n\", '    else:\\n', \"        return 'Prime Number'\\n\", '\\n', '\\n', \"def print_star(n = 5, typ = 'left',shape = '*'):\\n\", \"  if typ  == 'left':\\n\", \"    space  = ''\\n\", '\\n', \"  elif typ == 'right':\\n\", \"    space = '  '\\n\", '\\n', \"  elif typ == 'mid':\\n\", \"    space = ' '\\n\", '\\n', '  for i in range(1,n+1):\\n', \"    print(space*(n-i) + i*f'{shape} ')\\n\", '\\n', '\\n', '\\n', 'def sum_of_n_natural_numbers(n):\\n', '    result = 0\\n', '    for i in range(1,n+1):\\n', '        result += i\\n', '    return result\\n', '\\n', '\\n', 'def factorial(n):\\n', '    result = 1\\n', '    for i in range(1,n+1):\\n', '        result *= i\\n', '    return result\\n', '\\n', '\\n', 'def total_sales(*args):\\n', '  #unpacking\\n', '  result = 0\\n', '  for i in args:\\n', '    result += i\\n', '  return result\\n', '\\n', '\\n', 'def minn(*data):\\n', '  min_ele = data[0]\\n', '  for i in data[1:]:\\n', '    if i< min_ele:\\n', '      min_ele = i\\n', '  return min_ele\\n', '\\n', '\\n', 'def maxx(*data):\\n', '  max_ele = data[0]\\n', '  for i in data[1:]:\\n', '    if i> max_ele:\\n', '      max_ele = i\\n', '  return max_ele    \\n', '\\n', '\\n', \"def sound_box(paisa,platform = 'Paytm'):\\n\", '    from gtts import gTTS\\n', \"    text  = f'''{platform} par {paisa} rs Prapt hue.'''\\n\", '    audio = gTTS(text)\\n', \"    audio.save('paytm.mp3')\\n\", '\\n', '    import pygame as p\\n', '    p.init()\\n', '\\n', \"    music = p.mixer.Sound('paytm.mp3')\\n\", '    music.play()\\n', '\\n', '\\n', 'def student_records(**kwargs):\\n', '  import pandas as pd\\n', '  try:\\n', '    data = pd.DataFrame(kwargs)\\n', '    return data\\n', '  except:\\n', '    data = pd.DataFrame(kwargs,index = [1])\\n', '    return data\\n', '\\n', '\\n', 'def show_time():\\n', '    try:\\n', '      while True:\\n', '        import time\\n', '        print(time.asctime())\\n', '        time.sleep(1)\\n', '        display(clear = True)\\n', '    except:\\n', \"        print('Timer has been stopped!!')\\n\", '\\n', '\\n', '        \\n', '      \\n', '    \\n', '\\n', '      \\n', '    ']\n"
     ]
    }
   ],
   "source": [
    "print(data)"
   ]
  },
  {
   "cell_type": "code",
   "execution_count": 21,
   "id": "5406c072-031b-4b42-ae6e-6f5fb44773a4",
   "metadata": {},
   "outputs": [
    {
     "name": "stdout",
     "output_type": "stream",
     "text": [
      "    if word == word[::-1]:\n",
      "\n"
     ]
    }
   ],
   "source": [
    "print(data[7])"
   ]
  },
  {
   "cell_type": "code",
   "execution_count": 22,
   "id": "33e13581-bf8b-4c59-b86f-a9b20de0eddd",
   "metadata": {},
   "outputs": [
    {
     "name": "stdout",
     "output_type": "stream",
     "text": [
      "['    if word == word[::-1]:\\n', \"      return 'Palindrome'\\n\", '    else:\\n', \"      return 'Not a Plaindrome'\\n\", '  else:\\n', \"    return 'Invalid Data Type'\\n\", '\\n', 'def give_fibo(n):\\n', '  fibo = [0,1]\\n', '  for i in range(n-2):\\n', '     last_num = fibo[-1]\\n']\n"
     ]
    }
   ],
   "source": [
    "print(data[7:18])"
   ]
  },
  {
   "cell_type": "code",
   "execution_count": 24,
   "id": "e6ba6da3-fd6d-47f9-986d-51684b2b2451",
   "metadata": {},
   "outputs": [
    {
     "name": "stdout",
     "output_type": "stream",
     "text": [
      "print('''This is Anshika Module in Python\n",
      "\n",
      "Info: https://www.google.com/''')\n",
      "\n",
      "\n",
      "\n",
      "\n",
      "\n",
      "def check_palindrome(word:str):\n",
      "\n",
      "  if type(word) == str:\n",
      "\n",
      "    word = word.upper()\n",
      "\n",
      "    if word == word[::-1]:\n",
      "\n",
      "      return 'Palindrome'\n",
      "\n",
      "    else:\n",
      "\n",
      "      return 'Not a Plaindrome'\n",
      "\n",
      "  else:\n",
      "\n",
      "    return 'Invalid Data Type'\n",
      "\n",
      "\n",
      "\n",
      "def give_fibo(n):\n",
      "\n",
      "  fibo = [0,1]\n",
      "\n"
     ]
    }
   ],
   "source": [
    "for i in data[:16]:\n",
    "    print(i)"
   ]
  },
  {
   "cell_type": "code",
   "execution_count": null,
   "id": "6c78ca06-526f-4b7b-95bc-5ec516ec5da0",
   "metadata": {},
   "outputs": [],
   "source": [
    "1"
   ]
  }
 ],
 "metadata": {
  "kernelspec": {
   "display_name": "Python [conda env:base] *",
   "language": "python",
   "name": "conda-base-py"
  },
  "language_info": {
   "codemirror_mode": {
    "name": "ipython",
    "version": 3
   },
   "file_extension": ".py",
   "mimetype": "text/x-python",
   "name": "python",
   "nbconvert_exporter": "python",
   "pygments_lexer": "ipython3",
   "version": "3.13.5"
  }
 },
 "nbformat": 4,
 "nbformat_minor": 5
}
