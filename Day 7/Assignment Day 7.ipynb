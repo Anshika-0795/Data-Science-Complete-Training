{
 "cells": [
  {
   "cell_type": "code",
   "execution_count": 18,
   "id": "f7f84394-b62f-429a-8e30-9cf2de179e02",
   "metadata": {},
   "outputs": [],
   "source": [
    "class Person:\n",
    "    def __init__(self, name, age):\n",
    "        self.name = name\n",
    "        self.age = age\n",
    "class Student(Person):\n",
    "    def __init__(self, name, age, student_id, course):\n",
    "        super().__init__(name, age)\n",
    "        self.student_id = student_id\n",
    "        self.course = course\n",
    "class Teacher(Person):\n",
    "    def __init__(self, name, age, employee_id, subject):\n",
    "        super().__init__(name, age)\n",
    "        self.employee_id = employee_id\n",
    "        self.subject = subject\n",
    "class TechStudent(Student):\n",
    "    def __init__(self, name, age, student_id, course, language):\n",
    "        super().__init__(name, age, student_id, course)\n",
    "        self.language = language\n",
    "ts = TechStudent(\"Anshika\", 19, \"ST0\", \"BCA\", \"Python\")\n",
    "print(vars(ts))"
   ]
  },
  {
   "cell_type": "code",
   "execution_count": 19,
   "id": "50a8c57e-457f-490a-b628-e1158ff8e2a3",
   "metadata": {},
   "outputs": [
    {
     "name": "stdout",
     "output_type": "stream",
     "text": [
      "University System Initialized\n",
      "\n"
     ]
    }
   ],
   "source": [
    "uni = University()\n",
    "print()"
   ]
  },
  {
   "cell_type": "code",
   "execution_count": 20,
   "id": "54630d88-3b42-42d2-833a-d358be27cb4d",
   "metadata": {},
   "outputs": [
    {
     "name": "stdout",
     "output_type": "stream",
     "text": [
      "Student enrolled in a course.\n"
     ]
    }
   ],
   "source": [
    "uni.student_details()"
   ]
  },
  {
   "cell_type": "code",
   "execution_count": 21,
   "id": "ac7915d7-cc0f-469a-aebf-f49cf077ec7e",
   "metadata": {},
   "outputs": [
    {
     "name": "stdout",
     "output_type": "stream",
     "text": [
      "Teacher assigned to a subject.\n"
     ]
    }
   ],
   "source": [
    "uni.teacher_details()"
   ]
  },
  {
   "cell_type": "code",
   "execution_count": 22,
   "id": "554356b7-be18-41f8-84df-3a5481f2ba4c",
   "metadata": {},
   "outputs": [
    {
     "name": "stdout",
     "output_type": "stream",
     "text": [
      "This is a multi-role University system.\n"
     ]
    }
   ],
   "source": [
    "uni.university_info()"
   ]
  },
  {
   "cell_type": "code",
   "execution_count": 23,
   "id": "00d838db-41d8-4700-a2e3-0948c066a338",
   "metadata": {},
   "outputs": [],
   "source": [
    "class MediaPlayer:\n",
    "    def common_info(self):\n",
    "        print(\"Generic Media Player Functions\")\n",
    "class AudioPlayer:\n",
    "    def play_audio(self):\n",
    "        print(\"Playing audio...\")\n",
    "    def stop_audio(self):\n",
    "        print(\"Stopping audio...\")\n",
    "class VideoPlayer:\n",
    "    def play_video(self):\n",
    "        print(\"Playing video...\")\n",
    "    def stop_video(self):\n",
    "        print(\"Stopping video...\")\n",
    "class UniversalPlayer(MediaPlayer, AudioPlayer, VideoPlayer):\n",
    "    def __init__(self):\n",
    "        print(\"Universal Media Player Ready!\")\n",
    "    def play_all(self):\n",
    "        print(\"== Playing Everything ==\")\n",
    "        self.play_audio()\n",
    "        self.play_video()\n",
    "    def stop_all(self):\n",
    "        print(\"== Stopping Everything ==\")\n",
    "        self.stop_audio()\n",
    "        self.stop_video()"
   ]
  },
  {
   "cell_type": "code",
   "execution_count": 24,
   "id": "dbc54102-e15e-4a13-802c-e00b40f542ba",
   "metadata": {},
   "outputs": [
    {
     "name": "stdout",
     "output_type": "stream",
     "text": [
      "Universal Media Player Ready!\n",
      "\n"
     ]
    }
   ],
   "source": [
    "player = UniversalPlayer()\n",
    "print()"
   ]
  },
  {
   "cell_type": "code",
   "execution_count": 25,
   "id": "e459c19d-546b-4f92-ba91-dfd654d004a4",
   "metadata": {},
   "outputs": [
    {
     "name": "stdout",
     "output_type": "stream",
     "text": [
      "Generic Media Player Functions\n"
     ]
    }
   ],
   "source": [
    "player.common_info()"
   ]
  },
  {
   "cell_type": "code",
   "execution_count": 26,
   "id": "b99f4365-018a-4a6e-8a32-c5b555ea0955",
   "metadata": {},
   "outputs": [
    {
     "name": "stdout",
     "output_type": "stream",
     "text": [
      "== Playing Everything ==\n",
      "Playing audio...\n",
      "Playing video...\n"
     ]
    }
   ],
   "source": [
    "player.play_all()"
   ]
  },
  {
   "cell_type": "code",
   "execution_count": 27,
   "id": "8d635c89-9fba-44fa-bab3-4268ed5bbfe2",
   "metadata": {},
   "outputs": [
    {
     "name": "stdout",
     "output_type": "stream",
     "text": [
      "== Stopping Everything ==\n",
      "Stopping audio...\n",
      "Stopping video...\n"
     ]
    }
   ],
   "source": [
    "player.stop_all()"
   ]
  },
  {
   "cell_type": "code",
   "execution_count": 1,
   "id": "7fe4389b-2d17-4f65-8167-8719fdb00c07",
   "metadata": {},
   "outputs": [
    {
     "name": "stdout",
     "output_type": "stream",
     "text": [
      "Interest Rate: 4.5%\n",
      "Interest Rate: 2.5%\n"
     ]
    }
   ],
   "source": [
    "class Bank:\n",
    "    def interest_rate(self): return 0\n",
    "class SavingsAccount(Bank):\n",
    "    def interest_rate(self): return 4.5\n",
    "class CurrentAccount(Bank):\n",
    "    def interest_rate(self): return 2.5\n",
    "accounts = [SavingsAccount(), CurrentAccount()]\n",
    "for acc in accounts:\n",
    "    print(f\"Interest Rate: {acc.interest_rate()}%\")"
   ]
  },
  {
   "cell_type": "code",
   "execution_count": 2,
   "id": "ee1a85c8-5024-40f9-b7f2-2c8ae01956a1",
   "metadata": {},
   "outputs": [
    {
     "name": "stdout",
     "output_type": "stream",
     "text": [
      "Ares attacks with: Sword Slash\n",
      "Merlin attacks with: Fireball\n",
      "Robin attacks with: Arrow Shot\n"
     ]
    }
   ],
   "source": [
    "class Character:\n",
    "    def __init__(self, name, health):\n",
    "        self.name = name\n",
    "        self.health = health\n",
    "    def attack(self): return \"Basic attack\"\n",
    "class Warrior(Character):\n",
    "    def __init__(self, name, health, sword_skill):\n",
    "        super().__init__(name, health)\n",
    "        self.sword_skill = sword_skill\n",
    "    def attack(self): return \"Sword Slash\"\n",
    "class Mage(Character):\n",
    "    def __init__(self, name, health, magic_power):\n",
    "        super().__init__(name, health)\n",
    "        self.magic_power = magic_power\n",
    "    def attack(self): return \"Fireball\"\n",
    "class Archer(Character):\n",
    "    def __init__(self, name, health, bow_skill):\n",
    "        super().__init__(name, health)\n",
    "        self.bow_skill = bow_skill\n",
    "    def attack(self): return \"Arrow Shot\"\n",
    "chars = [Warrior(\"Ares\", 100, 90), Mage(\"Merlin\", 80, 95), Archer(\"Robin\", 85, 88)]\n",
    "for c in chars:\n",
    "    print(f\"{c.name} attacks with: {c.attack()}\")"
   ]
  },
  {
   "cell_type": "code",
   "execution_count": 3,
   "id": "0415adde-dc43-4e66-8dfc-9e611fb54193",
   "metadata": {},
   "outputs": [],
   "source": [
    "from abc import ABC, abstractmethod\n",
    "class Transport(ABC):\n",
    "    @abstractmethod\n",
    "    def move(self): pass\n",
    "class LandTransport(Transport):\n",
    "    def move(self): print(\"Moving on land\")\n",
    "class WaterTransport(Transport):\n",
    "    def move(self): print(\"Sailing in water\")\n",
    "class AirTransport(Transport):\n",
    "    def move(self): print(\"Flying in air\")\n",
    "class Amphibious(LandTransport, WaterTransport):\n",
    "    def move(self):\n",
    "        print(\"Can move on land and water\")"
   ]
  },
  {
   "cell_type": "code",
   "execution_count": 4,
   "id": "db825e1a-9273-4e43-b681-1aa5eb6a0803",
   "metadata": {},
   "outputs": [],
   "source": [
    "a = Amphibious()"
   ]
  },
  {
   "cell_type": "code",
   "execution_count": 5,
   "id": "0644dfb5-3801-4f1a-9478-49478b83d98d",
   "metadata": {},
   "outputs": [
    {
     "name": "stdout",
     "output_type": "stream",
     "text": [
      "Can move on land and water\n"
     ]
    }
   ],
   "source": [
    "a.move()"
   ]
  },
  {
   "cell_type": "code",
   "execution_count": 6,
   "id": "98247e2e-58c2-4b59-9082-15269592a363",
   "metadata": {},
   "outputs": [],
   "source": [
    "a = AirTransport()"
   ]
  },
  {
   "cell_type": "code",
   "execution_count": 7,
   "id": "5efc1c07-07aa-42f6-8fca-8f4de226b130",
   "metadata": {},
   "outputs": [
    {
     "name": "stdout",
     "output_type": "stream",
     "text": [
      "Flying in air\n"
     ]
    }
   ],
   "source": [
    "a.move()"
   ]
  },
  {
   "cell_type": "code",
   "execution_count": null,
   "id": "1f261e42-a950-48c4-9a62-be4985699cf0",
   "metadata": {},
   "outputs": [],
   "source": []
  }
 ],
 "metadata": {
  "kernelspec": {
   "display_name": "Python [conda env:base] *",
   "language": "python",
   "name": "conda-base-py"
  },
  "language_info": {
   "codemirror_mode": {
    "name": "ipython",
    "version": 3
   },
   "file_extension": ".py",
   "mimetype": "text/x-python",
   "name": "python",
   "nbconvert_exporter": "python",
   "pygments_lexer": "ipython3",
   "version": "3.13.5"
  }
 },
 "nbformat": 4,
 "nbformat_minor": 5
}
