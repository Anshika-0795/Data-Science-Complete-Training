{
 "cells": [
  {
   "cell_type": "code",
   "execution_count": null,
   "id": "1f0db1f1-40b6-4674-8e35-42acf909bcfb",
   "metadata": {},
   "outputs": [],
   "source": [
    "#INHERITANCE"
   ]
  },
  {
   "cell_type": "code",
   "execution_count": 63,
   "id": "548b7bd0-dec7-415f-a1c5-ba7b668d4f49",
   "metadata": {},
   "outputs": [],
   "source": [
    "class A:\n",
    "    def i_am_a():\n",
    "        print('I am a Func of Class A')\n",
    "    def i_am_b():\n",
    "        print('I am b Func of Class B')\n",
    "class B:\n",
    "    def i_am_b():\n",
    "        print('I am b Func of Class B')"
   ]
  },
  {
   "cell_type": "code",
   "execution_count": 3,
   "id": "88861e20-e77d-4582-922a-648f36ffce1d",
   "metadata": {},
   "outputs": [],
   "source": [
    "#Types of Inheritance :-\n",
    "#single inheritance (simple)\n",
    "#multiple inheritance\n",
    "#multilevel inheritance\n",
    "#hybrid inhertance"
   ]
  },
  {
   "cell_type": "code",
   "execution_count": 8,
   "id": "fa9ef945-dfc6-430f-ac18-b71eb141c05d",
   "metadata": {},
   "outputs": [],
   "source": [
    "#Simple inheritance\n",
    "class BMW:     #parent class,super class,main class,base class\n",
    "    def super_turbo_engine(self):\n",
    "        print('super_turbo_engine Fast Speed')\n",
    "class Audi(BMW):   #child class,sub class\n",
    "    def auto_pilot(self):\n",
    "        print('Can run on Auto Pilot Mode!!')"
   ]
  },
  {
   "cell_type": "code",
   "execution_count": 9,
   "id": "d1eaca70-5e4f-4f7e-94f6-f17943588eb1",
   "metadata": {},
   "outputs": [],
   "source": [
    "audi_r8 = Audi()"
   ]
  },
  {
   "cell_type": "code",
   "execution_count": 10,
   "id": "0436a8cf-3558-43fd-ae50-c2a1943f6164",
   "metadata": {},
   "outputs": [
    {
     "name": "stdout",
     "output_type": "stream",
     "text": [
      "Can run on Auto Pilot Mode!!\n"
     ]
    }
   ],
   "source": [
    "audi_r8.auto_pilot()"
   ]
  },
  {
   "cell_type": "code",
   "execution_count": 12,
   "id": "d3298d9b-7ff7-4200-b1d5-f8808627f921",
   "metadata": {},
   "outputs": [
    {
     "name": "stdout",
     "output_type": "stream",
     "text": [
      "super_turbo_engine Fast Speed\n"
     ]
    }
   ],
   "source": [
    "audi_r8.super_turbo_engine()"
   ]
  },
  {
   "cell_type": "code",
   "execution_count": 44,
   "id": "cbead6cb-adf3-497e-a0e9-7c2e9b46b815",
   "metadata": {},
   "outputs": [],
   "source": [
    "#Multiple inheritance\n",
    "class Daily_Object:\n",
    "    def phone_case(self):\n",
    "        print('Strong Build Phone Case')\n",
    "class JBL:\n",
    "    def sonic_speaker(self):\n",
    "         print('High Quality Sound Speaker')\n",
    "class Samsung:\n",
    "    def screen_display(self):\n",
    "        print('4k HD Display')\n",
    "class Nvidia:\n",
    "    def motherboard(self):\n",
    "        print('Fast motherboard')\n",
    "class Sony:\n",
    "    def camera(self):\n",
    "        print('4k camera')\n",
    "class Lava:\n",
    "    def charger(self):\n",
    "        print('SuperFast Charger')\n",
    "class One_Plus:\n",
    "    def charger(self):\n",
    "        print('Original Superfast Charger!!From One_Plus')\n",
    "class Mobile(Daily_Object,JBL,Samsung,Nvidia,Sony,Lava):\n",
    "    def __init__(self):\n",
    "        print('Phone Object Created Successfully!!')\n",
    "    def charger(self):\n",
    "        print('Actual Charger From Mobile!!')"
   ]
  },
  {
   "cell_type": "code",
   "execution_count": 45,
   "id": "210ca290-a4e3-4254-a6f5-1a9d5e8464fe",
   "metadata": {},
   "outputs": [
    {
     "name": "stdout",
     "output_type": "stream",
     "text": [
      "Phone Object Created Successfully!!\n"
     ]
    }
   ],
   "source": [
    "nothing = Mobile()"
   ]
  },
  {
   "cell_type": "code",
   "execution_count": 46,
   "id": "630a4db6-838d-4ac7-bacc-5f301d0079fe",
   "metadata": {},
   "outputs": [
    {
     "name": "stdout",
     "output_type": "stream",
     "text": [
      "4k camera\n"
     ]
    }
   ],
   "source": [
    "nothing.camera()"
   ]
  },
  {
   "cell_type": "code",
   "execution_count": 47,
   "id": "398bdd10-2c3a-4a63-bfc1-9d1ce5b869d3",
   "metadata": {},
   "outputs": [
    {
     "name": "stdout",
     "output_type": "stream",
     "text": [
      "Fast motherboard\n"
     ]
    }
   ],
   "source": [
    "nothing.motherboard()"
   ]
  },
  {
   "cell_type": "code",
   "execution_count": 48,
   "id": "1fc122ae-5a18-47c3-944c-fe8b14891264",
   "metadata": {},
   "outputs": [
    {
     "name": "stdout",
     "output_type": "stream",
     "text": [
      "Strong Build Phone Case\n"
     ]
    }
   ],
   "source": [
    "nothing.phone_case()"
   ]
  },
  {
   "cell_type": "code",
   "execution_count": 49,
   "id": "4a81c4bd-40e3-4cbe-8778-3e68770e20ac",
   "metadata": {},
   "outputs": [
    {
     "name": "stdout",
     "output_type": "stream",
     "text": [
      "4k HD Display\n"
     ]
    }
   ],
   "source": [
    "nothing.screen_display()"
   ]
  },
  {
   "cell_type": "code",
   "execution_count": 50,
   "id": "4d5055b0-0319-4081-b8e0-4e4314ae9388",
   "metadata": {},
   "outputs": [
    {
     "name": "stdout",
     "output_type": "stream",
     "text": [
      "High Quality Sound Speaker\n"
     ]
    }
   ],
   "source": [
    "nothing.sonic_speaker()"
   ]
  },
  {
   "cell_type": "code",
   "execution_count": 51,
   "id": "1d12306d-3ba7-4d2c-b258-bcfbeb5b8a47",
   "metadata": {},
   "outputs": [
    {
     "name": "stdout",
     "output_type": "stream",
     "text": [
      "Actual Charger From Mobile!!\n"
     ]
    }
   ],
   "source": [
    "nothing.charger()"
   ]
  },
  {
   "cell_type": "code",
   "execution_count": 52,
   "id": "76665242-4f6b-4ccd-b8b7-0186a74b7b48",
   "metadata": {},
   "outputs": [],
   "source": [
    "#Multilevel inheritance\n",
    "class GrandFather:\n",
    "    def land_property(self):\n",
    "        print('Land Property!!')\n",
    "class Father(GrandFather):\n",
    "    def bank_balance(self):\n",
    "        print('Big Money Player,Huge Bank Balance')\n",
    "class Son(Father):\n",
    "    def political_power(self):\n",
    "        print('Political Powers')\n",
    "class GrandSon(Son):\n",
    "    def mind(self):\n",
    "        print('Mind for Self Study!!')\n",
    "class Friend(GrandSon):\n",
    "    def __init__(self):\n",
    "        print('Nothing!!')"
   ]
  },
  {
   "cell_type": "code",
   "execution_count": 53,
   "id": "62d81d2e-477e-4e6d-ae18-8eae2784b038",
   "metadata": {},
   "outputs": [
    {
     "name": "stdout",
     "output_type": "stream",
     "text": [
      "Done\n"
     ]
    }
   ],
   "source": [
    "aman = GrandSon()\n",
    "print('Done')"
   ]
  },
  {
   "cell_type": "code",
   "execution_count": 54,
   "id": "e8c9ec84-1e63-4210-b732-4b00519f4ae0",
   "metadata": {},
   "outputs": [
    {
     "name": "stdout",
     "output_type": "stream",
     "text": [
      "Big Money Player,Huge Bank Balance\n"
     ]
    }
   ],
   "source": [
    "aman.bank_balance()"
   ]
  },
  {
   "cell_type": "code",
   "execution_count": 55,
   "id": "d75c3890-c6db-484a-86f5-162212ca0afd",
   "metadata": {},
   "outputs": [
    {
     "name": "stdout",
     "output_type": "stream",
     "text": [
      "Land Property!!\n"
     ]
    }
   ],
   "source": [
    "aman.land_property()"
   ]
  },
  {
   "cell_type": "code",
   "execution_count": 56,
   "id": "a8d36398-c55d-4ea0-9518-af610daba861",
   "metadata": {},
   "outputs": [
    {
     "name": "stdout",
     "output_type": "stream",
     "text": [
      "Nothing!!\n"
     ]
    }
   ],
   "source": [
    "karan = Friend()"
   ]
  },
  {
   "cell_type": "code",
   "execution_count": 57,
   "id": "379c1c24-43b0-4728-a317-8236382fcd3f",
   "metadata": {},
   "outputs": [
    {
     "name": "stdout",
     "output_type": "stream",
     "text": [
      "Political Powers\n"
     ]
    }
   ],
   "source": [
    "karan.political_power()"
   ]
  },
  {
   "cell_type": "code",
   "execution_count": 58,
   "id": "ec8e1a3e-1a77-4e7f-8816-fe36d7be452a",
   "metadata": {},
   "outputs": [],
   "source": [
    "#Hybrid inheritance\n",
    "class Hybrid_class(Mobile,Friend,Audi):\n",
    "    def __init__(self):\n",
    "        print('This is a Hybrid Class')\n",
    "    def info(self):\n",
    "        print('It can call any methods!!')"
   ]
  },
  {
   "cell_type": "code",
   "execution_count": 59,
   "id": "62d02a30-b294-431c-903f-666a92c4a8ec",
   "metadata": {},
   "outputs": [
    {
     "name": "stdout",
     "output_type": "stream",
     "text": [
      "This is a Hybrid Class\n"
     ]
    }
   ],
   "source": [
    "ob = Hybrid_class()"
   ]
  },
  {
   "cell_type": "code",
   "execution_count": 60,
   "id": "49804b20-42d8-484d-ac84-1b9e983c9574",
   "metadata": {},
   "outputs": [
    {
     "name": "stdout",
     "output_type": "stream",
     "text": [
      "It can call any methods!!\n"
     ]
    }
   ],
   "source": [
    "ob.info()"
   ]
  },
  {
   "cell_type": "code",
   "execution_count": 61,
   "id": "80a9264b-1dea-4767-84ea-80f9b2a94148",
   "metadata": {},
   "outputs": [
    {
     "name": "stdout",
     "output_type": "stream",
     "text": [
      "Land Property!!\n"
     ]
    }
   ],
   "source": [
    "ob.land_property()"
   ]
  },
  {
   "cell_type": "code",
   "execution_count": 62,
   "id": "54ca040a-b721-46bc-a250-38afafe651b9",
   "metadata": {},
   "outputs": [],
   "source": [
    "#Hierarchial inheritance\n",
    "class UGC:\n",
    "    def __init__(self):\n",
    "        print('Grant Permission')\n",
    "        def college_approved(self):\n",
    "            print('College Has Been Approved')\n",
    "class DU(UGC):\n",
    "    def multiple_colleges(self):\n",
    "        print('List of Colleges!!')\n",
    "class IPU(UGC):\n",
    "    def multiple_colleges(self):\n",
    "        print('List of Colleges!!')\n",
    "class DTU(UGC):\n",
    "    def multiple_colleges(self):\n",
    "        print('List of Colleges!!')\n",
    "class BHU(UGC):\n",
    "    def multiple_colleges(self):\n",
    "        print('List of Colleges!!')"
   ]
  },
  {
   "cell_type": "code",
   "execution_count": null,
   "id": "84dad8e2-4361-45e5-8a2f-ebb013c9fb0c",
   "metadata": {},
   "outputs": [],
   "source": [
    "#POLYMORPHISM"
   ]
  },
  {
   "cell_type": "code",
   "execution_count": 67,
   "id": "c2cc9e53-2ca0-45ca-873f-7cf7b9db4a6d",
   "metadata": {},
   "outputs": [
    {
     "data": {
      "text/plain": [
       "79"
      ]
     },
     "execution_count": 67,
     "metadata": {},
     "output_type": "execute_result"
    }
   ],
   "source": [
    "a = 34\n",
    "b = 45\n",
    "a + b"
   ]
  },
  {
   "cell_type": "code",
   "execution_count": 68,
   "id": "6067c0dd-2f7a-4746-aa6f-55f56418e542",
   "metadata": {},
   "outputs": [
    {
     "data": {
      "text/plain": [
       "'3445'"
      ]
     },
     "execution_count": 68,
     "metadata": {},
     "output_type": "execute_result"
    }
   ],
   "source": [
    "a = '34'\n",
    "b = '45'\n",
    "a + b"
   ]
  },
  {
   "cell_type": "code",
   "execution_count": 69,
   "id": "6d820650-af2c-4fe9-952a-6ffc54d4c73e",
   "metadata": {},
   "outputs": [
    {
     "data": {
      "text/plain": [
       "[35, 454, 546, 35, 45, 654]"
      ]
     },
     "execution_count": 69,
     "metadata": {},
     "output_type": "execute_result"
    }
   ],
   "source": [
    "a = [35,454,546]\n",
    "b = [35,45,654]\n",
    "a + b"
   ]
  },
  {
   "cell_type": "code",
   "execution_count": 70,
   "id": "65b21beb-4dba-4052-ab97-d341a8332c13",
   "metadata": {},
   "outputs": [
    {
     "data": {
      "text/plain": [
       "5"
      ]
     },
     "execution_count": 70,
     "metadata": {},
     "output_type": "execute_result"
    }
   ],
   "source": [
    "a = 'harry'\n",
    "len(a)"
   ]
  },
  {
   "cell_type": "code",
   "execution_count": 71,
   "id": "74e1af78-898f-4fc8-bc93-560c2d27b10c",
   "metadata": {},
   "outputs": [
    {
     "data": {
      "text/plain": [
       "2"
      ]
     },
     "execution_count": 71,
     "metadata": {},
     "output_type": "execute_result"
    }
   ],
   "source": [
    "a = ['harry','jatin']\n",
    "len(a)"
   ]
  },
  {
   "cell_type": "code",
   "execution_count": 75,
   "id": "1cd46c8c-5d01-4966-818d-3eb73d42c866",
   "metadata": {},
   "outputs": [
    {
     "data": {
      "text/plain": [
       "3"
      ]
     },
     "execution_count": 75,
     "metadata": {},
     "output_type": "execute_result"
    }
   ],
   "source": [
    "a = str(567)\n",
    "len(a)"
   ]
  },
  {
   "cell_type": "code",
   "execution_count": 77,
   "id": "d1ffdd37-11f2-4f51-93b1-a70234119c42",
   "metadata": {},
   "outputs": [
    {
     "data": {
      "text/plain": [
       "3"
      ]
     },
     "execution_count": 77,
     "metadata": {},
     "output_type": "execute_result"
    }
   ],
   "source": [
    "def ste(a):\n",
    "  return str(a)\n",
    "a = ste(567)\n",
    "len(a)"
   ]
  },
  {
   "cell_type": "code",
   "execution_count": null,
   "id": "a8105df7-004a-47e2-9f3f-b109cec2e9ad",
   "metadata": {},
   "outputs": [],
   "source": [
    "#Types of polymorphism :-\n",
    "#overriding\n",
    "#overloading"
   ]
  },
  {
   "cell_type": "code",
   "execution_count": 79,
   "id": "7f402f8b-e355-4ce4-8cab-d0ec21ff5dde",
   "metadata": {},
   "outputs": [
    {
     "name": "stdout",
     "output_type": "stream",
     "text": [
      "None <class 'NoneType'>\n"
     ]
    }
   ],
   "source": [
    "a = 45\n",
    "a = '45'\n",
    "a = None\n",
    "print(a,type(a))"
   ]
  },
  {
   "cell_type": "code",
   "execution_count": 86,
   "id": "9ede9c20-d0c1-477d-9701-420a31541a06",
   "metadata": {},
   "outputs": [
    {
     "name": "stdout",
     "output_type": "stream",
     "text": [
      "F1 Car Speed: Max speed 200 km\\hr\n",
      "F1 Car Speed: Max speed 250 km\\hr\n",
      "F1 Car Speed: Max speed 300 km\\hr\n"
     ]
    }
   ],
   "source": [
    "#Overriding\n",
    "class Car:\n",
    "    def speed(self):\n",
    "        return('Max speed 200 km\\hr')\n",
    "    def auto_pilot(self):\n",
    "        return('It supports Auto Pilot Mode!!')\n",
    "    def info(self):\n",
    "        return('Max speed 250 km\\hr')\n",
    "class BMW(Car):\n",
    "    def speed(self):\n",
    "        return('Max speed 250 km\\hr')\n",
    "    def info(self):\n",
    "        return('A BMW car object')\n",
    "class Audi(Car):\n",
    "    def speed(self):\n",
    "        return('Max speed 300 km\\hr')\n",
    "    def info(self):\n",
    "        return('Audi car')\n",
    "for i in [Car,BMW,Audi]:\n",
    "      f1 = i()\n",
    "      print('F1 Car Speed:',f1.speed())\n",
    "      "
   ]
  },
  {
   "cell_type": "code",
   "execution_count": 87,
   "id": "582ca0a1-0463-46f8-a113-b309915bfe78",
   "metadata": {},
   "outputs": [
    {
     "name": "stdout",
     "output_type": "stream",
     "text": [
      "Max speed 200 km\\hr\n"
     ]
    }
   ],
   "source": [
    "f1 = Car()\n",
    "print(f1.speed())"
   ]
  },
  {
   "cell_type": "code",
   "execution_count": 88,
   "id": "249800c1-3505-4f69-997d-4f2234c43e2a",
   "metadata": {},
   "outputs": [
    {
     "name": "stdout",
     "output_type": "stream",
     "text": [
      "Max speed 250 km\\hr\n"
     ]
    }
   ],
   "source": [
    "f1 = BMW()\n",
    "print(f1.speed())"
   ]
  },
  {
   "cell_type": "code",
   "execution_count": 89,
   "id": "1c2e715f-74a5-45b2-bcf9-02f602f2c3cb",
   "metadata": {},
   "outputs": [
    {
     "name": "stdout",
     "output_type": "stream",
     "text": [
      "Max speed 300 km\\hr\n"
     ]
    }
   ],
   "source": [
    "f1 = Audi()\n",
    "print(f1.speed())"
   ]
  },
  {
   "cell_type": "code",
   "execution_count": 95,
   "id": "7e0dc3e5-5ab9-47fe-b6c4-1c1149fb3db5",
   "metadata": {},
   "outputs": [
    {
     "name": "stdout",
     "output_type": "stream",
     "text": [
      "Hello komal,how are you??\n",
      "Your Address is Delhi\n"
     ]
    }
   ],
   "source": [
    "#Overloading\n",
    "class IITM:\n",
    "    def intro(self):\n",
    "        print('Hello Candidates!!')\n",
    "    def intro(self,name):\n",
    "        print('Hello {name},how are you??')\n",
    "    def intro(self,name,address):\n",
    "        print(f'Hello {name},how are you??')\n",
    "        print(f'Your Address is {address}')\n",
    "a = IITM()\n",
    "a.intro('komal','Delhi')"
   ]
  },
  {
   "cell_type": "code",
   "execution_count": 97,
   "id": "2b30ad16-1be5-4406-a2b7-99a41091ad81",
   "metadata": {},
   "outputs": [],
   "source": [
    "class IITM:\n",
    "    def intro(self,name = None,address = None):\n",
    "        if (name == None) and (address == None):\n",
    "            print('Hello Candidates')\n",
    "        elif name != None and (adress == None):\n",
    "            print(f'Hello {name},how are you??')\n",
    "        elif (name != None) and (address != None):\n",
    "            print(f'Hello {name},how are you??')\n",
    "            print(f'Your Address is {address}')\n",
    "        else:\n",
    "            print('Hello Buddy!!')"
   ]
  },
  {
   "cell_type": "code",
   "execution_count": 103,
   "id": "c38101a3-03b5-4079-a613-7e21f001cc68",
   "metadata": {},
   "outputs": [
    {
     "name": "stdout",
     "output_type": "stream",
     "text": [
      "Hello Candidates\n"
     ]
    }
   ],
   "source": [
    "a = IITM()\n",
    "a.intro()"
   ]
  },
  {
   "cell_type": "code",
   "execution_count": 106,
   "id": "c877dea8-14e9-4493-8a44-aa0c8b3bc1ea",
   "metadata": {},
   "outputs": [
    {
     "name": "stdout",
     "output_type": "stream",
     "text": [
      "Hello Buddy!!\n"
     ]
    }
   ],
   "source": [
    "a = IITM()\n",
    "a.intro(address = 'Faridabad')"
   ]
  },
  {
   "cell_type": "code",
   "execution_count": 107,
   "id": "07e90b1e-f7ee-4b61-b6c9-0159e087d11f",
   "metadata": {},
   "outputs": [
    {
     "name": "stdout",
     "output_type": "stream",
     "text": [
      "Hello Anshika,how are you??\n"
     ]
    }
   ],
   "source": [
    "a = IITM()\n",
    "a.intro('Anshika')"
   ]
  },
  {
   "cell_type": "code",
   "execution_count": 17,
   "id": "93e7215b-dc02-42d0-9e0b-c78409752f7c",
   "metadata": {},
   "outputs": [
    {
     "name": "stdout",
     "output_type": "stream",
     "text": [
      "Done\n"
     ]
    }
   ],
   "source": [
    "#ABSTRACTION :- only idea,not a physical object\n",
    "from abc import ABC, abstractmethod\n",
    "class Website(ABC):\n",
    "       def login(self): \n",
    "        print('This is a Login method')  \n",
    "       def logout(self):\n",
    "        print('A logout method')\n",
    "asus = Website()\n",
    "print('Done')"
   ]
  },
  {
   "cell_type": "code",
   "execution_count": 12,
   "id": "aa35dfbc-3283-4c27-85b8-35f5ae69e99b",
   "metadata": {},
   "outputs": [],
   "source": [
    "class Anshika(Website):\n",
    "    def signup(self):\n",
    "        print('user can Signup!!')\n",
    "    def login(self):\n",
    "        print('This is a Login Form')\n",
    "    def logout(self):\n",
    "        print('This is a Logout Form')\n",
    "google = Anshika()"
   ]
  },
  {
   "cell_type": "code",
   "execution_count": 14,
   "id": "af9df17e-52a0-4035-a25a-b45c0f0237a2",
   "metadata": {},
   "outputs": [
    {
     "name": "stdout",
     "output_type": "stream",
     "text": [
      "user can Signup!!\n"
     ]
    }
   ],
   "source": [
    "google.signup()"
   ]
  },
  {
   "cell_type": "code",
   "execution_count": 15,
   "id": "93f87e1e-6bed-4874-8631-c5738dffd37f",
   "metadata": {},
   "outputs": [
    {
     "name": "stdout",
     "output_type": "stream",
     "text": [
      "This is a Login Form\n"
     ]
    }
   ],
   "source": [
    "google.login()"
   ]
  },
  {
   "cell_type": "code",
   "execution_count": 16,
   "id": "37da6a1f-48f2-4580-821d-cabf5365ec18",
   "metadata": {},
   "outputs": [
    {
     "name": "stdout",
     "output_type": "stream",
     "text": [
      "This is a Logout Form\n"
     ]
    }
   ],
   "source": [
    "google.logout()"
   ]
  },
  {
   "cell_type": "code",
   "execution_count": 19,
   "id": "b349ae89-fe77-4332-b754-a7684b756bb0",
   "metadata": {},
   "outputs": [],
   "source": [
    "google = Website()"
   ]
  },
  {
   "cell_type": "code",
   "execution_count": null,
   "id": "0a5dfae3-2070-4556-8135-fe64e764104f",
   "metadata": {},
   "outputs": [],
   "source": []
  }
 ],
 "metadata": {
  "kernelspec": {
   "display_name": "Python [conda env:base] *",
   "language": "python",
   "name": "conda-base-py"
  },
  "language_info": {
   "codemirror_mode": {
    "name": "ipython",
    "version": 3
   },
   "file_extension": ".py",
   "mimetype": "text/x-python",
   "name": "python",
   "nbconvert_exporter": "python",
   "pygments_lexer": "ipython3",
   "version": "3.13.5"
  }
 },
 "nbformat": 4,
 "nbformat_minor": 5
}
