{
 "cells": [
  {
   "cell_type": "code",
   "execution_count": 1,
   "id": "41940c1e-3e85-488f-9d9f-c68513866743",
   "metadata": {},
   "outputs": [
    {
     "name": "stdout",
     "output_type": "stream",
     "text": [
      "Top 10 results saved to govt_jobs.txt\n"
     ]
    }
   ],
   "source": [
    "import requests\n",
    "from bs4 import BeautifulSoup\n",
    "query = \"Government Jobs 2025\"\n",
    "url = f\"https://duckduckgo.com/html/?q={query.replace(' ', '+')}\"\n",
    "response = requests.get(url)\n",
    "soup = BeautifulSoup(response.text, \"html.parser\")\n",
    "results = soup.find_all('a', class_='result__a', limit=10)\n",
    "with open(\"govt_jobs.txt\", \"w\") as f:\n",
    "    for i, link in enumerate(results, 1):\n",
    "        f.write(f\"{i}. {link.get('href')}\\n\")\n",
    "print(\"Top 10 results saved to govt_jobs.txt\")"
   ]
  },
  {
   "cell_type": "code",
   "execution_count": 2,
   "id": "6466038d-19d0-4882-9e31-3f19c4f0c516",
   "metadata": {},
   "outputs": [
    {
     "name": "stdout",
     "output_type": "stream",
     "text": [
      "5 images downloaded.\n"
     ]
    }
   ],
   "source": [
    "import requests\n",
    "for i in range(1, 6):\n",
    "    img_url = \"https://picsum.photos/200/300\"\n",
    "    img_data = requests.get(img_url).content\n",
    "    with open(f\"image_{i}.jpg\", \"wb\") as f:\n",
    "        f.write(img_data)\n",
    "print(\"5 images downloaded.\")"
   ]
  },
  {
   "cell_type": "code",
   "execution_count": 4,
   "id": "83cbaf83-c07d-4e48-8452-3bfec3ef4f97",
   "metadata": {},
   "outputs": [
    {
     "name": "stdout",
     "output_type": "stream",
     "text": [
      "Student data saved.\n"
     ]
    }
   ],
   "source": [
    "class Student:\n",
    "    def __init__(self, name, roll_no, marks):\n",
    "        self.name = name\n",
    "        self.roll_no = roll_no\n",
    "        self.marks = marks\n",
    "    def grade(self):\n",
    "        return 'A' if self.marks >= 75 else 'B' if self.marks >= 50 else 'C'\n",
    "s = Student(\"Anshika\", 26, 80)\n",
    "with open(\"students.txt\", \"a\") as f:\n",
    "    f.write(f\"{s.name}, {s.roll_no}, {s.marks}, Grade: {s.grade()}\\n\")\n",
    "print(\"Student data saved.\")"
   ]
  },
  {
   "cell_type": "code",
   "execution_count": 5,
   "id": "e1db8908-869f-442f-ac57-5ae8922f220e",
   "metadata": {},
   "outputs": [
    {
     "name": "stdout",
     "output_type": "stream",
     "text": [
      "Backup of .py files complete.\n"
     ]
    }
   ],
   "source": [
    "import os, shutil\n",
    "if not os.path.exists(\"backup\"):\n",
    "    os.mkdir(\"backup\")\n",
    "for file in os.listdir():\n",
    "    if file.endswith(\".py\"):\n",
    "        shutil.copy(file, \"backup\")\n",
    "print(\"Backup of .py files complete.\")"
   ]
  },
  {
   "cell_type": "code",
   "execution_count": null,
   "id": "e16be0ac-fb9e-4523-b52f-8a69a4a95c95",
   "metadata": {},
   "outputs": [],
   "source": [
    "import sqlite3\n",
    "conn = sqlite3.connect(\"books.db\")\n",
    "cursor = conn.cursor()\n",
    "cursor.execute('''CREATE TABLE IF NOT EXISTS books\n",
    "               (title TEXT, author TEXT, year INTEGER)''')\n",
    "cursor.execute(\"INSERT INTO books VALUES (?, ?, ?)\", (\"Harry Potter\", \"J.K. Rowling\", 1997))\n",
    "cursor.execute(\"SELECT * FROM books\")\n",
    "for row in cursor.fetchall():\n",
    "    print(row)\n",
    "conn.commit()\n",
    "conn.close()"
   ]
  }
 ],
 "metadata": {
  "kernelspec": {
   "display_name": "Python [conda env:base] *",
   "language": "python",
   "name": "conda-base-py"
  },
  "language_info": {
   "codemirror_mode": {
    "name": "ipython",
    "version": 3
   },
   "file_extension": ".py",
   "mimetype": "text/x-python",
   "name": "python",
   "nbconvert_exporter": "python",
   "pygments_lexer": "ipython3",
   "version": "3.13.5"
  }
 },
 "nbformat": 4,
 "nbformat_minor": 5
}
