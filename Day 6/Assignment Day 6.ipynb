{
 "cells": [
  {
   "cell_type": "code",
   "execution_count": 1,
   "id": "6dcfec52-43ee-49c4-9ca1-c7affbf4c624",
   "metadata": {},
   "outputs": [],
   "source": [
    "class Fan:\n",
    "    def __init__(self):\n",
    "        self.__speed = 0  \n",
    "        self.is_on = False\n",
    "    def turn_on(self):\n",
    "        self.is_on = True\n",
    "        print(\"Fan turned on.\")\n",
    "    def turn_off(self):\n",
    "        self.is_on = False\n",
    "        self.__speed = 0\n",
    "        print(\"Fan turned off.\")\n",
    "    def increase_speed(self):\n",
    "        if self.__speed < 5:\n",
    "            self.__speed += 1\n",
    "        print(f\"Speed: {self.__speed}\")\n",
    "    def decrease_speed(self):\n",
    "        if self.__speed > 0:\n",
    "            self.__speed -= 1\n",
    "        print(f\"Speed: {self.__speed}\")\n",
    "fan = Fan()"
   ]
  },
  {
   "cell_type": "code",
   "execution_count": 2,
   "id": "587e6e18-1206-4212-8842-abbbe8b04ad2",
   "metadata": {},
   "outputs": [
    {
     "name": "stdout",
     "output_type": "stream",
     "text": [
      "Fan turned on.\n"
     ]
    }
   ],
   "source": [
    "fan.turn_on()"
   ]
  },
  {
   "cell_type": "code",
   "execution_count": 3,
   "id": "0df7b26a-de94-45fa-ad65-cdd804d304a8",
   "metadata": {},
   "outputs": [
    {
     "name": "stdout",
     "output_type": "stream",
     "text": [
      "Speed: 1\n"
     ]
    }
   ],
   "source": [
    "fan.increase_speed()"
   ]
  },
  {
   "cell_type": "code",
   "execution_count": 4,
   "id": "d9b2394b-3b7a-4a10-9443-7901a5925ba0",
   "metadata": {},
   "outputs": [
    {
     "name": "stdout",
     "output_type": "stream",
     "text": [
      "Speed: 2\n"
     ]
    }
   ],
   "source": [
    "fan.increase_speed()"
   ]
  },
  {
   "cell_type": "code",
   "execution_count": 5,
   "id": "565954a6-fbd2-4fb6-9770-91638bd9b217",
   "metadata": {},
   "outputs": [
    {
     "name": "stdout",
     "output_type": "stream",
     "text": [
      "Speed: 1\n"
     ]
    }
   ],
   "source": [
    "fan.decrease_speed()"
   ]
  },
  {
   "cell_type": "code",
   "execution_count": 6,
   "id": "e1a74f05-213e-46ad-a8ca-f3ba00b779f8",
   "metadata": {},
   "outputs": [
    {
     "name": "stdout",
     "output_type": "stream",
     "text": [
      "Fan turned off.\n"
     ]
    }
   ],
   "source": [
    "fan.turn_off()"
   ]
  },
  {
   "cell_type": "code",
   "execution_count": 8,
   "id": "6f77b22f-7e49-4c08-b8d2-730fc9a82bbe",
   "metadata": {},
   "outputs": [
    {
     "name": "stdout",
     "output_type": "stream",
     "text": [
      "Name: Anshika, Dept: IT, Salary: ₹40000\n"
     ]
    }
   ],
   "source": [
    "class Employee:\n",
    "    def __init__(self, name, salary, department):\n",
    "        self.name = name\n",
    "        self.__salary = salary  \n",
    "        self.department = department\n",
    "    def get_details(self):\n",
    "        return f\"Name: {self.name}, Dept: {self.department}, Salary: ₹{self.__salary}\"\n",
    "    def increase_salary(self, percent):\n",
    "        self.__salary += self.__salary * (percent / 100)\n",
    "emp = Employee(\"Anshika\", 40000, \"IT\")\n",
    "print(emp.get_details())"
   ]
  },
  {
   "cell_type": "code",
   "execution_count": 9,
   "id": "1223f260-0c97-47e7-8cf0-63a32aab0dfd",
   "metadata": {},
   "outputs": [
    {
     "name": "stdout",
     "output_type": "stream",
     "text": [
      "Name: Anshika, Dept: IT, Salary: ₹44000.0\n"
     ]
    }
   ],
   "source": [
    "emp.increase_salary(10)\n",
    "print(emp.get_details())"
   ]
  },
  {
   "cell_type": "code",
   "execution_count": 15,
   "id": "2c9672e7-5daa-48ba-b6e7-a287e4d3dfea",
   "metadata": {},
   "outputs": [],
   "source": [
    "class BankAccount:\n",
    "    def __init__(self, name, acc_no, balance=0):\n",
    "        self.name = name\n",
    "        self.acc_no = acc_no\n",
    "        self.__balance = balance  \n",
    "    def deposit(self, amount):\n",
    "        self.__balance += amount\n",
    "        print(f\"Rs{amount} deposited.\")\n",
    "    def withdraw(self, amount):\n",
    "        if amount <= self.__balance:\n",
    "            self.__balance -= amount\n",
    "            print(f\"Rs{amount} withdrawn.\")\n",
    "        else:\n",
    "            print(\"Insufficient balance!\")\n",
    "    def check_balance(self):\n",
    "        return f\"Balance: ₹{self.__balance}\""
   ]
  },
  {
   "cell_type": "code",
   "execution_count": 16,
   "id": "a44c70d5-998d-498e-8573-4a8db905a796",
   "metadata": {},
   "outputs": [],
   "source": [
    "acc = BankAccount(\"Anshika\", \"9865444\", 1000)"
   ]
  },
  {
   "cell_type": "code",
   "execution_count": 17,
   "id": "1d574cd5-b5ac-483c-acc0-726b134423ee",
   "metadata": {},
   "outputs": [
    {
     "name": "stdout",
     "output_type": "stream",
     "text": [
      "Rs500 deposited.\n"
     ]
    }
   ],
   "source": [
    "acc.deposit(500)"
   ]
  },
  {
   "cell_type": "code",
   "execution_count": 18,
   "id": "7e91e5f6-6ad5-4f1b-80ce-12e62aba1323",
   "metadata": {},
   "outputs": [
    {
     "name": "stdout",
     "output_type": "stream",
     "text": [
      "Rs300 withdrawn.\n"
     ]
    }
   ],
   "source": [
    "acc.withdraw(300)"
   ]
  },
  {
   "cell_type": "code",
   "execution_count": 19,
   "id": "9e996326-e8a3-44d9-a82a-d8066f941dc9",
   "metadata": {},
   "outputs": [
    {
     "name": "stdout",
     "output_type": "stream",
     "text": [
      "Balance: ₹1200\n"
     ]
    }
   ],
   "source": [
    "print(acc.check_balance())"
   ]
  },
  {
   "cell_type": "code",
   "execution_count": 20,
   "id": "d47253eb-7059-460d-bed5-5bbce08550f6",
   "metadata": {},
   "outputs": [
    {
     "name": "stdout",
     "output_type": "stream",
     "text": [
      "Insufficient balance!\n"
     ]
    }
   ],
   "source": [
    "acc.withdraw(2000)"
   ]
  },
  {
   "cell_type": "code",
   "execution_count": 21,
   "id": "852c3a05-3931-43ae-b5f4-ae74ba77a157",
   "metadata": {},
   "outputs": [],
   "source": [
    "class Book:\n",
    "    def __init__(self, title, author, price):\n",
    "        self.title = title\n",
    "        self.author = author\n",
    "        self.price = price\n",
    "        self.__available = True  \n",
    "    def borrow_book(self):\n",
    "        if self.__available:\n",
    "            self.__available = False\n",
    "            print(f\"You borrowed '{self.title}'.\")\n",
    "        else:\n",
    "            print(\"Book not available.\")\n",
    "    def return_book(self):\n",
    "        self.__available = True\n",
    "        print(f\"You returned '{self.title}'.\")\n",
    "    def get_book_info(self):\n",
    "        status = \"Available\" if self.__available else \"Not Available\"\n",
    "        return f\"'{self.title}' by {self.author} - ₹{self.price} | {status}\""
   ]
  },
  {
   "cell_type": "code",
   "execution_count": null,
   "id": "23a981f2-87c6-4c99-9163-182b6187496d",
   "metadata": {},
   "outputs": [],
   "source": []
  }
 ],
 "metadata": {
  "kernelspec": {
   "display_name": "Python [conda env:base] *",
   "language": "python",
   "name": "conda-base-py"
  },
  "language_info": {
   "codemirror_mode": {
    "name": "ipython",
    "version": 3
   },
   "file_extension": ".py",
   "mimetype": "text/x-python",
   "name": "python",
   "nbconvert_exporter": "python",
   "pygments_lexer": "ipython3",
   "version": "3.13.5"
  }
 },
 "nbformat": 4,
 "nbformat_minor": 5
}
