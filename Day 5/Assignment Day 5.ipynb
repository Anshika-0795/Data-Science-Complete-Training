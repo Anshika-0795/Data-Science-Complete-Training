{
 "cells": [
  {
   "cell_type": "code",
   "execution_count": 1,
   "id": "194c00d4-45bd-4293-b57f-8f4088dd6633",
   "metadata": {},
   "outputs": [
    {
     "name": "stdout",
     "output_type": "stream",
     "text": [
      "Database and table created.\n"
     ]
    }
   ],
   "source": [
    "import sqlite3\n",
    "conn = sqlite3.connect(\"library_db.db\")\n",
    "cur = conn.cursor()\n",
    "cur.execute('''\n",
    "    CREATE TABLE IF NOT EXISTS books (\n",
    "        book_id INTEGER PRIMARY KEY,\n",
    "        title TEXT,\n",
    "        author TEXT,\n",
    "        price REAL\n",
    "    )\n",
    "''')\n",
    "conn.commit()\n",
    "conn.close()\n",
    "print(\"Database and table created.\")"
   ]
  },
  {
   "cell_type": "code",
   "execution_count": 7,
   "id": "835cb712-2623-4dbc-93a6-50a682466997",
   "metadata": {},
   "outputs": [
    {
     "name": "stdout",
     "output_type": "stream",
     "text": [
      "3 books inserted.\n"
     ]
    }
   ],
   "source": [
    "conn = sqlite3.connect(\"library_db.db\")\n",
    "cur = conn.cursor()\n",
    "books_data = [\n",
    "    (1, \"Five Point Someone\", \"Chetan Bhagat\", 146.0),\n",
    "    (2, \"The God Of Small Things\", \"Arundhati Roy\", 363.0),\n",
    "    (3, \"The White Tiger\", \"Aravind Adiga\", 400.0)\n",
    "]\n",
    "cur.executemany(\"INSERT OR IGNORE INTO books VALUES (?, ?, ?, ?)\", books_data)\n",
    "conn.commit()\n",
    "conn.close()\n",
    "print(\"3 books inserted.\")"
   ]
  },
  {
   "cell_type": "code",
   "execution_count": 8,
   "id": "b4f221e6-9267-4ee4-893e-6c3b0c7f23d0",
   "metadata": {},
   "outputs": [
    {
     "name": "stdout",
     "output_type": "stream",
     "text": [
      "Total Price of All Books: 1148.0\n"
     ]
    }
   ],
   "source": [
    "conn = sqlite3.connect(\"library_db.db\")\n",
    "cur = conn.cursor()\n",
    "cur.execute(\"SELECT SUM(price) FROM books\")\n",
    "total_price = cur.fetchone()[0]\n",
    "print(\"Total Price of All Books:\", total_price)\n",
    "conn.close()"
   ]
  },
  {
   "cell_type": "code",
   "execution_count": 9,
   "id": "ec55b7c4-6849-49a3-b8d1-ea63a32a69ae",
   "metadata": {},
   "outputs": [
    {
     "name": "stdout",
     "output_type": "stream",
     "text": [
      "Data saved to books_data.csv\n"
     ]
    },
    {
     "data": {
      "text/html": [
       "<div>\n",
       "<style scoped>\n",
       "    .dataframe tbody tr th:only-of-type {\n",
       "        vertical-align: middle;\n",
       "    }\n",
       "\n",
       "    .dataframe tbody tr th {\n",
       "        vertical-align: top;\n",
       "    }\n",
       "\n",
       "    .dataframe thead th {\n",
       "        text-align: right;\n",
       "    }\n",
       "</style>\n",
       "<table border=\"1\" class=\"dataframe\">\n",
       "  <thead>\n",
       "    <tr style=\"text-align: right;\">\n",
       "      <th></th>\n",
       "      <th>book_id</th>\n",
       "      <th>title</th>\n",
       "      <th>author</th>\n",
       "      <th>price</th>\n",
       "    </tr>\n",
       "  </thead>\n",
       "  <tbody>\n",
       "    <tr>\n",
       "      <th>0</th>\n",
       "      <td>1</td>\n",
       "      <td>The Alchemist</td>\n",
       "      <td>Paulo Coelho</td>\n",
       "      <td>299.0</td>\n",
       "    </tr>\n",
       "    <tr>\n",
       "      <th>1</th>\n",
       "      <td>2</td>\n",
       "      <td>Atomic Habits</td>\n",
       "      <td>James Clear</td>\n",
       "      <td>499.0</td>\n",
       "    </tr>\n",
       "    <tr>\n",
       "      <th>2</th>\n",
       "      <td>3</td>\n",
       "      <td>Ikigai</td>\n",
       "      <td>Héctor García</td>\n",
       "      <td>350.0</td>\n",
       "    </tr>\n",
       "  </tbody>\n",
       "</table>\n",
       "</div>"
      ],
      "text/plain": [
       "   book_id          title         author  price\n",
       "0        1  The Alchemist   Paulo Coelho  299.0\n",
       "1        2  Atomic Habits    James Clear  499.0\n",
       "2        3         Ikigai  Héctor García  350.0"
      ]
     },
     "execution_count": 9,
     "metadata": {},
     "output_type": "execute_result"
    }
   ],
   "source": [
    "import pandas as pd\n",
    "conn = sqlite3.connect(\"library_db.db\")\n",
    "df = pd.read_sql_query(\"SELECT * FROM books\", conn)\n",
    "conn.close()\n",
    "df.to_csv(\"books_data.csv\", index=False)\n",
    "print(\"Data saved to books_data.csv\")\n",
    "df"
   ]
  },
  {
   "cell_type": "code",
   "execution_count": null,
   "id": "93be7919-6096-4778-ac65-1e0514e46785",
   "metadata": {},
   "outputs": [],
   "source": []
  }
 ],
 "metadata": {
  "kernelspec": {
   "display_name": "Python [conda env:base] *",
   "language": "python",
   "name": "conda-base-py"
  },
  "language_info": {
   "codemirror_mode": {
    "name": "ipython",
    "version": 3
   },
   "file_extension": ".py",
   "mimetype": "text/x-python",
   "name": "python",
   "nbconvert_exporter": "python",
   "pygments_lexer": "ipython3",
   "version": "3.13.5"
  }
 },
 "nbformat": 4,
 "nbformat_minor": 5
}
