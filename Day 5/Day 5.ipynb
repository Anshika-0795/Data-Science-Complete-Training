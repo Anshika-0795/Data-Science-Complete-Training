{
 "cells": [
  {
   "cell_type": "code",
   "execution_count": 6,
   "id": "cc8436a7-ac54-4683-9bd1-81fb4f8b9dbb",
   "metadata": {},
   "outputs": [],
   "source": [
    "#pip install PyMySQL"
   ]
  },
  {
   "cell_type": "code",
   "execution_count": 7,
   "id": "135d3af3-7edc-4abc-a2ee-f182f85104af",
   "metadata": {},
   "outputs": [
    {
     "name": "stdout",
     "output_type": "stream",
     "text": [
      "Done\n"
     ]
    }
   ],
   "source": [
    "import pymysql as py\n",
    "print('Done')"
   ]
  },
  {
   "cell_type": "code",
   "execution_count": 8,
   "id": "749c6640-c2e3-4372-9cbb-4fb1313e9fa4",
   "metadata": {},
   "outputs": [
    {
     "name": "stdout",
     "output_type": "stream",
     "text": [
      "Connection Created Successfully!!\n",
      "Done\n"
     ]
    }
   ],
   "source": [
    "conn = py.connect(user = 'root',\n",
    "                  password= 'anshika0712',\n",
    "                  host= 'localhost',\n",
    "                  autocommit = True)\n",
    "print('Connection Created Successfully!!')\n",
    "print('Done')"
   ]
  },
  {
   "cell_type": "code",
   "execution_count": 9,
   "id": "0973a5ab-c8dd-4c48-b126-dfc5a0b32ca1",
   "metadata": {},
   "outputs": [
    {
     "name": "stdout",
     "output_type": "stream",
     "text": [
      "Cursor is created\n"
     ]
    }
   ],
   "source": [
    "cur= conn.cursor()\n",
    "print (\"Cursor is created\")"
   ]
  },
  {
   "cell_type": "code",
   "execution_count": 10,
   "id": "d1297ad3-af01-47ce-af94-8228e970f9c2",
   "metadata": {},
   "outputs": [
    {
     "name": "stdout",
     "output_type": "stream",
     "text": [
      "Data Base Created\n"
     ]
    }
   ],
   "source": [
    "q1= ''' create database day5;'''\n",
    "cur.execute(q1)\n",
    "print(\"Data Base Created\")"
   ]
  },
  {
   "cell_type": "code",
   "execution_count": 11,
   "id": "a241c89a-c75a-4780-b9cb-c17d64d8b5d1",
   "metadata": {},
   "outputs": [
    {
     "name": "stdout",
     "output_type": "stream",
     "text": [
      "Done\n"
     ]
    }
   ],
   "source": [
    "q='''use day5;'''\n",
    "cur.execute(q)\n",
    "print(\"Done\")"
   ]
  },
  {
   "cell_type": "code",
   "execution_count": 12,
   "id": "4c7043a7-84ce-4759-9205-eb69f9a68d5f",
   "metadata": {},
   "outputs": [
    {
     "name": "stdout",
     "output_type": "stream",
     "text": [
      "done\n"
     ]
    }
   ],
   "source": [
    "q2= '''create table s_details(\n",
    "SID int not null,\n",
    "S_Name varchar(50),\n",
    "S_Course varchar(50),\n",
    "Address varchar(50));'''\n",
    "cur.execute(q2)\n",
    "print (\"done\")"
   ]
  },
  {
   "cell_type": "code",
   "execution_count": 13,
   "id": "c79c102a-5bad-4bcf-b089-3017b956c4da",
   "metadata": {},
   "outputs": [
    {
     "name": "stdout",
     "output_type": "stream",
     "text": [
      "Data Enter successfully\n"
     ]
    }
   ],
   "source": [
    "# inserting data \n",
    "q= '''insert into s_details values(\n",
    "057,\"Divyanshu\",\"BCA\",\"Delhi\");'''\n",
    "cur.execute(q)\n",
    "print (\"Data Enter successfully\")"
   ]
  },
  {
   "cell_type": "code",
   "execution_count": 15,
   "id": "61f09219-6248-468f-8216-257dcb134ee1",
   "metadata": {},
   "outputs": [
    {
     "name": "stdin",
     "output_type": "stream",
     "text": [
      "Enter Student id :  026\n",
      "Enter student name :  Anshika Rana\n",
      "Enter course :  BCA\n",
      "Enter address :  UP\n",
      "Enter Student id :  027\n",
      "Enter student name :  Nameesh Kadam\n",
      "Enter course :  BA\n",
      "Enter address :  HARYANA\n",
      "Enter Student id :  013\n",
      "Enter student name :  Niyati Singh\n",
      "Enter course :  BCA\n",
      "Enter address :  DELHI\n",
      "Enter Student id :  035\n",
      "Enter student name :  Vanshika Bhardwaj\n",
      "Enter course :  BCA\n",
      "Enter address :  DELHI\n",
      "Enter Student id :  049\n",
      "Enter student name :  Nandini Chandel\n",
      "Enter course :  BCA\n",
      "Enter address :  DELHI\n"
     ]
    },
    {
     "name": "stdout",
     "output_type": "stream",
     "text": [
      "data Enter\n"
     ]
    }
   ],
   "source": [
    "for i in range (5):\n",
    "    sid= int(input(\"Enter Student id : \"))\n",
    "    name=input('Enter student name : ')\n",
    "    course= input('Enter course : ')\n",
    "    address= input('Enter address : ')\n",
    "    q=f'''insert into s_details values ({sid},'{name}','{course}','{address}');'''\n",
    "    cur.execute(q)\n",
    "print (\"data Enter\")"
   ]
  },
  {
   "cell_type": "code",
   "execution_count": 16,
   "id": "09e186c2-e0ee-40a3-9cc9-d1c4be477842",
   "metadata": {},
   "outputs": [
    {
     "data": {
      "text/html": [
       "<div>\n",
       "<style scoped>\n",
       "    .dataframe tbody tr th:only-of-type {\n",
       "        vertical-align: middle;\n",
       "    }\n",
       "\n",
       "    .dataframe tbody tr th {\n",
       "        vertical-align: top;\n",
       "    }\n",
       "\n",
       "    .dataframe thead th {\n",
       "        text-align: right;\n",
       "    }\n",
       "</style>\n",
       "<table border=\"1\" class=\"dataframe\">\n",
       "  <thead>\n",
       "    <tr style=\"text-align: right;\">\n",
       "      <th></th>\n",
       "      <th>SID</th>\n",
       "      <th>S_Name</th>\n",
       "      <th>S_Course</th>\n",
       "      <th>Address</th>\n",
       "    </tr>\n",
       "  </thead>\n",
       "  <tbody>\n",
       "    <tr>\n",
       "      <th>0</th>\n",
       "      <td>57</td>\n",
       "      <td>Divyanshu</td>\n",
       "      <td>BCA</td>\n",
       "      <td>Delhi</td>\n",
       "    </tr>\n",
       "    <tr>\n",
       "      <th>1</th>\n",
       "      <td>26</td>\n",
       "      <td>Anshika</td>\n",
       "      <td>BCA</td>\n",
       "      <td>Uttar Pradesh</td>\n",
       "    </tr>\n",
       "    <tr>\n",
       "      <th>2</th>\n",
       "      <td>35</td>\n",
       "      <td>Vanshika</td>\n",
       "      <td>BCA</td>\n",
       "      <td>DELHI</td>\n",
       "    </tr>\n",
       "    <tr>\n",
       "      <th>3</th>\n",
       "      <td>13</td>\n",
       "      <td>Niyati</td>\n",
       "      <td>BCA</td>\n",
       "      <td>DELHI</td>\n",
       "    </tr>\n",
       "    <tr>\n",
       "      <th>4</th>\n",
       "      <td>49</td>\n",
       "      <td>Nandini</td>\n",
       "      <td>BCA</td>\n",
       "      <td>DELHI</td>\n",
       "    </tr>\n",
       "    <tr>\n",
       "      <th>5</th>\n",
       "      <td>26</td>\n",
       "      <td>Anshika Rana</td>\n",
       "      <td>BCA</td>\n",
       "      <td>UP</td>\n",
       "    </tr>\n",
       "    <tr>\n",
       "      <th>6</th>\n",
       "      <td>27</td>\n",
       "      <td>Nameesh Kadam</td>\n",
       "      <td>BA</td>\n",
       "      <td>HARYANA</td>\n",
       "    </tr>\n",
       "    <tr>\n",
       "      <th>7</th>\n",
       "      <td>13</td>\n",
       "      <td>Niyati Singh</td>\n",
       "      <td>BCA</td>\n",
       "      <td>DELHI</td>\n",
       "    </tr>\n",
       "    <tr>\n",
       "      <th>8</th>\n",
       "      <td>35</td>\n",
       "      <td>Vanshika Bhardwaj</td>\n",
       "      <td>BCA</td>\n",
       "      <td>DELHI</td>\n",
       "    </tr>\n",
       "    <tr>\n",
       "      <th>9</th>\n",
       "      <td>49</td>\n",
       "      <td>Nandini Chandel</td>\n",
       "      <td>BCA</td>\n",
       "      <td>DELHI</td>\n",
       "    </tr>\n",
       "  </tbody>\n",
       "</table>\n",
       "</div>"
      ],
      "text/plain": [
       "   SID             S_Name S_Course        Address\n",
       "0   57          Divyanshu      BCA          Delhi\n",
       "1   26            Anshika      BCA  Uttar Pradesh\n",
       "2   35           Vanshika      BCA          DELHI\n",
       "3   13             Niyati      BCA          DELHI\n",
       "4   49            Nandini      BCA          DELHI\n",
       "5   26       Anshika Rana      BCA             UP\n",
       "6   27      Nameesh Kadam       BA        HARYANA\n",
       "7   13       Niyati Singh      BCA          DELHI\n",
       "8   35  Vanshika Bhardwaj      BCA          DELHI\n",
       "9   49    Nandini Chandel      BCA          DELHI"
      ]
     },
     "execution_count": 16,
     "metadata": {},
     "output_type": "execute_result"
    }
   ],
   "source": [
    "q3=\"select * from s_details;\"\n",
    "cur.execute(q3)\n",
    "a=[]\n",
    "for i in cur.description:\n",
    "    a.append(i[0])\n",
    "    # print(i)\n",
    "r=cur.fetchall()\n",
    "import pandas as pd \n",
    "pd.DataFrame(r,columns=a)"
   ]
  },
  {
   "cell_type": "code",
   "execution_count": 17,
   "id": "347cb354-d07a-4a44-940b-d4c77e26785d",
   "metadata": {},
   "outputs": [],
   "source": [
    "def show_rec(db,table):\n",
    "    q3=f'''select * from {db}.{table};'''\n",
    "    cur.execute(q3)\n",
    "    a=[]\n",
    "    for i in cur.description:\n",
    "        a.append(i[0])\n",
    "        # print(i)\n",
    "    r=cur.fetchall()\n",
    "    import pandas as pd \n",
    "    rec=pd.DataFrame(r,columns=a)\n",
    "    return rec"
   ]
  },
  {
   "cell_type": "code",
   "execution_count": 18,
   "id": "f92104d3-6e34-4bc5-bbc1-83e7797421e9",
   "metadata": {},
   "outputs": [
    {
     "data": {
      "text/html": [
       "<div>\n",
       "<style scoped>\n",
       "    .dataframe tbody tr th:only-of-type {\n",
       "        vertical-align: middle;\n",
       "    }\n",
       "\n",
       "    .dataframe tbody tr th {\n",
       "        vertical-align: top;\n",
       "    }\n",
       "\n",
       "    .dataframe thead th {\n",
       "        text-align: right;\n",
       "    }\n",
       "</style>\n",
       "<table border=\"1\" class=\"dataframe\">\n",
       "  <thead>\n",
       "    <tr style=\"text-align: right;\">\n",
       "      <th></th>\n",
       "      <th>SID</th>\n",
       "      <th>S_Name</th>\n",
       "      <th>S_Course</th>\n",
       "      <th>Address</th>\n",
       "    </tr>\n",
       "  </thead>\n",
       "  <tbody>\n",
       "    <tr>\n",
       "      <th>0</th>\n",
       "      <td>57</td>\n",
       "      <td>Divyanshu</td>\n",
       "      <td>BCA</td>\n",
       "      <td>Delhi</td>\n",
       "    </tr>\n",
       "    <tr>\n",
       "      <th>1</th>\n",
       "      <td>26</td>\n",
       "      <td>Anshika</td>\n",
       "      <td>BCA</td>\n",
       "      <td>Uttar Pradesh</td>\n",
       "    </tr>\n",
       "    <tr>\n",
       "      <th>2</th>\n",
       "      <td>35</td>\n",
       "      <td>Vanshika</td>\n",
       "      <td>BCA</td>\n",
       "      <td>DELHI</td>\n",
       "    </tr>\n",
       "    <tr>\n",
       "      <th>3</th>\n",
       "      <td>13</td>\n",
       "      <td>Niyati</td>\n",
       "      <td>BCA</td>\n",
       "      <td>DELHI</td>\n",
       "    </tr>\n",
       "    <tr>\n",
       "      <th>4</th>\n",
       "      <td>49</td>\n",
       "      <td>Nandini</td>\n",
       "      <td>BCA</td>\n",
       "      <td>DELHI</td>\n",
       "    </tr>\n",
       "    <tr>\n",
       "      <th>5</th>\n",
       "      <td>26</td>\n",
       "      <td>Anshika Rana</td>\n",
       "      <td>BCA</td>\n",
       "      <td>UP</td>\n",
       "    </tr>\n",
       "    <tr>\n",
       "      <th>6</th>\n",
       "      <td>27</td>\n",
       "      <td>Nameesh Kadam</td>\n",
       "      <td>BA</td>\n",
       "      <td>HARYANA</td>\n",
       "    </tr>\n",
       "    <tr>\n",
       "      <th>7</th>\n",
       "      <td>13</td>\n",
       "      <td>Niyati Singh</td>\n",
       "      <td>BCA</td>\n",
       "      <td>DELHI</td>\n",
       "    </tr>\n",
       "    <tr>\n",
       "      <th>8</th>\n",
       "      <td>35</td>\n",
       "      <td>Vanshika Bhardwaj</td>\n",
       "      <td>BCA</td>\n",
       "      <td>DELHI</td>\n",
       "    </tr>\n",
       "    <tr>\n",
       "      <th>9</th>\n",
       "      <td>49</td>\n",
       "      <td>Nandini Chandel</td>\n",
       "      <td>BCA</td>\n",
       "      <td>DELHI</td>\n",
       "    </tr>\n",
       "  </tbody>\n",
       "</table>\n",
       "</div>"
      ],
      "text/plain": [
       "   SID             S_Name S_Course        Address\n",
       "0   57          Divyanshu      BCA          Delhi\n",
       "1   26            Anshika      BCA  Uttar Pradesh\n",
       "2   35           Vanshika      BCA          DELHI\n",
       "3   13             Niyati      BCA          DELHI\n",
       "4   49            Nandini      BCA          DELHI\n",
       "5   26       Anshika Rana      BCA             UP\n",
       "6   27      Nameesh Kadam       BA        HARYANA\n",
       "7   13       Niyati Singh      BCA          DELHI\n",
       "8   35  Vanshika Bhardwaj      BCA          DELHI\n",
       "9   49    Nandini Chandel      BCA          DELHI"
      ]
     },
     "execution_count": 18,
     "metadata": {},
     "output_type": "execute_result"
    }
   ],
   "source": [
    "show_rec(\"day5\",\"s_details\")"
   ]
  },
  {
   "cell_type": "code",
   "execution_count": 19,
   "id": "d9590690-03cb-4f9c-b90a-ecdaf326f3f2",
   "metadata": {},
   "outputs": [],
   "source": [
    "conn.close()"
   ]
  }
 ],
 "metadata": {
  "kernelspec": {
   "display_name": "Python [conda env:base] *",
   "language": "python",
   "name": "conda-base-py"
  },
  "language_info": {
   "codemirror_mode": {
    "name": "ipython",
    "version": 3
   },
   "file_extension": ".py",
   "mimetype": "text/x-python",
   "name": "python",
   "nbconvert_exporter": "python",
   "pygments_lexer": "ipython3",
   "version": "3.13.5"
  }
 },
 "nbformat": 4,
 "nbformat_minor": 5
}
