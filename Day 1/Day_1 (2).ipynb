{
  "nbformat": 4,
  "nbformat_minor": 0,
  "metadata": {
    "colab": {
      "provenance": []
    },
    "kernelspec": {
      "name": "python3",
      "display_name": "Python 3"
    },
    "language_info": {
      "name": "python"
    }
  },
  "cells": [
    {
      "cell_type": "code",
      "execution_count": null,
      "metadata": {
        "colab": {
          "base_uri": "https://localhost:8080/"
        },
        "id": "bVpznlxKWjhh",
        "outputId": "8274ef11-7eea-4b75-a455-0b247412378b"
      },
      "outputs": [
        {
          "output_type": "stream",
          "name": "stdout",
          "text": [
            "232\n",
            "232 <class 'int'>\n",
            "2.424\n",
            "2.424 <class 'float'>\n"
          ]
        }
      ],
      "source": [
        "a=232\n",
        "print(a)\n",
        "print(a,type(a))\n",
        "b=2.424\n",
        "print(b)\n",
        "print(b,type (b))"
      ]
    },
    {
      "cell_type": "code",
      "source": [
        "a=232 + 8j\n",
        "print(a)\n",
        "print(a,type(a))\n"
      ],
      "metadata": {
        "colab": {
          "base_uri": "https://localhost:8080/"
        },
        "id": "yV8mJWqwXiQD",
        "outputId": "8d80a213-21d0-49bc-ba40-ad3e39a4defd"
      },
      "execution_count": null,
      "outputs": [
        {
          "output_type": "stream",
          "name": "stdout",
          "text": [
            "(232+8j)\n",
            "(232+8j) <class 'complex'>\n"
          ]
        }
      ]
    },
    {
      "cell_type": "code",
      "source": [
        "a=\"m\"\n",
        "print(a)\n",
        "print(a,type(a))\n"
      ],
      "metadata": {
        "colab": {
          "base_uri": "https://localhost:8080/"
        },
        "id": "9SBLO0F5XT76",
        "outputId": "35835440-439e-48f1-fda5-f4886c94c494"
      },
      "execution_count": null,
      "outputs": [
        {
          "output_type": "stream",
          "name": "stdout",
          "text": [
            "m\n",
            "m <class 'str'>\n"
          ]
        }
      ]
    },
    {
      "cell_type": "code",
      "source": [
        "a=(1,4324,1313)\n",
        "print(a)\n",
        "print(a,type(a))"
      ],
      "metadata": {
        "colab": {
          "base_uri": "https://localhost:8080/"
        },
        "id": "2mka9YxdYaHc",
        "outputId": "86419d5f-a302-484a-c376-39fc7f871d4d"
      },
      "execution_count": null,
      "outputs": [
        {
          "output_type": "stream",
          "name": "stdout",
          "text": [
            "(1, 4324, 1313)\n",
            "(1, 4324, 1313) <class 'tuple'>\n"
          ]
        }
      ]
    },
    {
      "cell_type": "code",
      "source": [
        "a=[2,3434,5,5467]\n",
        "print(a)\n",
        "print(a,type(a))"
      ],
      "metadata": {
        "colab": {
          "base_uri": "https://localhost:8080/"
        },
        "id": "9YiHItlgZIS_",
        "outputId": "3b12c3e0-4ac9-443f-fd6c-774897c3b6b9"
      },
      "execution_count": null,
      "outputs": [
        {
          "output_type": "stream",
          "name": "stdout",
          "text": [
            "[2, 3434, 5, 5467]\n",
            "[2, 3434, 5, 5467] <class 'list'>\n"
          ]
        }
      ]
    },
    {
      "cell_type": "code",
      "source": [
        "a[2]=121\n",
        "print(a)\n",
        "\n"
      ],
      "metadata": {
        "colab": {
          "base_uri": "https://localhost:8080/"
        },
        "id": "5dU-fZoNZVjJ",
        "outputId": "0920c5b2-2663-4f3a-ad99-6b80b551a827"
      },
      "execution_count": null,
      "outputs": [
        {
          "output_type": "stream",
          "name": "stdout",
          "text": [
            "[2, 3434, 121, 5467]\n"
          ]
        }
      ]
    },
    {
      "cell_type": "code",
      "source": [
        "a={'Name':'Aman','Age':23,'Address':'Delhi'}\n",
        "print(a,type(a))\n"
      ],
      "metadata": {
        "id": "jebFV3aaZUyk"
      },
      "execution_count": null,
      "outputs": []
    },
    {
      "cell_type": "code",
      "source": [
        "a['Address']='Noida/Gr noida'\n",
        "print(a)\n"
      ],
      "metadata": {
        "id": "TlVW71YUbiy-"
      },
      "execution_count": null,
      "outputs": []
    },
    {
      "cell_type": "code",
      "source": [
        "data={'Region':['West','East','North','South'],\n",
        "      'Sales':[345,546,453,456],\n",
        "      'Profit':[120,200,90,78]}\n",
        "print(data)"
      ],
      "metadata": {
        "id": "X_Zfya23cE81",
        "colab": {
          "base_uri": "https://localhost:8080/"
        },
        "outputId": "7e5b0eaf-f6cc-4def-b9d7-6a5f22a2ea5c"
      },
      "execution_count": null,
      "outputs": [
        {
          "output_type": "stream",
          "name": "stdout",
          "text": [
            "{'Region': ['West', 'East', 'North', 'South'], 'Sales': [345, 546, 453, 456], 'Profit': [120, 200, 90, 78]}\n"
          ]
        }
      ]
    },
    {
      "cell_type": "code",
      "source": [
        "import pandas as pd\n",
        "pd.DataFrame(data)\n"
      ],
      "metadata": {
        "id": "0vbuThDLcBOV",
        "colab": {
          "base_uri": "https://localhost:8080/",
          "height": 175
        },
        "outputId": "95a21c64-ad6f-49ca-83eb-a62050c8e9d2"
      },
      "execution_count": null,
      "outputs": [
        {
          "output_type": "execute_result",
          "data": {
            "text/plain": [
              "  Region  Sales  Profit\n",
              "0   West    345     120\n",
              "1   East    546     200\n",
              "2  North    453      90\n",
              "3  South    456      78"
            ],
            "text/html": [
              "\n",
              "  <div id=\"df-2ab69067-61e1-458b-a62d-58e9da1b56f7\" class=\"colab-df-container\">\n",
              "    <div>\n",
              "<style scoped>\n",
              "    .dataframe tbody tr th:only-of-type {\n",
              "        vertical-align: middle;\n",
              "    }\n",
              "\n",
              "    .dataframe tbody tr th {\n",
              "        vertical-align: top;\n",
              "    }\n",
              "\n",
              "    .dataframe thead th {\n",
              "        text-align: right;\n",
              "    }\n",
              "</style>\n",
              "<table border=\"1\" class=\"dataframe\">\n",
              "  <thead>\n",
              "    <tr style=\"text-align: right;\">\n",
              "      <th></th>\n",
              "      <th>Region</th>\n",
              "      <th>Sales</th>\n",
              "      <th>Profit</th>\n",
              "    </tr>\n",
              "  </thead>\n",
              "  <tbody>\n",
              "    <tr>\n",
              "      <th>0</th>\n",
              "      <td>West</td>\n",
              "      <td>345</td>\n",
              "      <td>120</td>\n",
              "    </tr>\n",
              "    <tr>\n",
              "      <th>1</th>\n",
              "      <td>East</td>\n",
              "      <td>546</td>\n",
              "      <td>200</td>\n",
              "    </tr>\n",
              "    <tr>\n",
              "      <th>2</th>\n",
              "      <td>North</td>\n",
              "      <td>453</td>\n",
              "      <td>90</td>\n",
              "    </tr>\n",
              "    <tr>\n",
              "      <th>3</th>\n",
              "      <td>South</td>\n",
              "      <td>456</td>\n",
              "      <td>78</td>\n",
              "    </tr>\n",
              "  </tbody>\n",
              "</table>\n",
              "</div>\n",
              "    <div class=\"colab-df-buttons\">\n",
              "\n",
              "  <div class=\"colab-df-container\">\n",
              "    <button class=\"colab-df-convert\" onclick=\"convertToInteractive('df-2ab69067-61e1-458b-a62d-58e9da1b56f7')\"\n",
              "            title=\"Convert this dataframe to an interactive table.\"\n",
              "            style=\"display:none;\">\n",
              "\n",
              "  <svg xmlns=\"http://www.w3.org/2000/svg\" height=\"24px\" viewBox=\"0 -960 960 960\">\n",
              "    <path d=\"M120-120v-720h720v720H120Zm60-500h600v-160H180v160Zm220 220h160v-160H400v160Zm0 220h160v-160H400v160ZM180-400h160v-160H180v160Zm440 0h160v-160H620v160ZM180-180h160v-160H180v160Zm440 0h160v-160H620v160Z\"/>\n",
              "  </svg>\n",
              "    </button>\n",
              "\n",
              "  <style>\n",
              "    .colab-df-container {\n",
              "      display:flex;\n",
              "      gap: 12px;\n",
              "    }\n",
              "\n",
              "    .colab-df-convert {\n",
              "      background-color: #E8F0FE;\n",
              "      border: none;\n",
              "      border-radius: 50%;\n",
              "      cursor: pointer;\n",
              "      display: none;\n",
              "      fill: #1967D2;\n",
              "      height: 32px;\n",
              "      padding: 0 0 0 0;\n",
              "      width: 32px;\n",
              "    }\n",
              "\n",
              "    .colab-df-convert:hover {\n",
              "      background-color: #E2EBFA;\n",
              "      box-shadow: 0px 1px 2px rgba(60, 64, 67, 0.3), 0px 1px 3px 1px rgba(60, 64, 67, 0.15);\n",
              "      fill: #174EA6;\n",
              "    }\n",
              "\n",
              "    .colab-df-buttons div {\n",
              "      margin-bottom: 4px;\n",
              "    }\n",
              "\n",
              "    [theme=dark] .colab-df-convert {\n",
              "      background-color: #3B4455;\n",
              "      fill: #D2E3FC;\n",
              "    }\n",
              "\n",
              "    [theme=dark] .colab-df-convert:hover {\n",
              "      background-color: #434B5C;\n",
              "      box-shadow: 0px 1px 3px 1px rgba(0, 0, 0, 0.15);\n",
              "      filter: drop-shadow(0px 1px 2px rgba(0, 0, 0, 0.3));\n",
              "      fill: #FFFFFF;\n",
              "    }\n",
              "  </style>\n",
              "\n",
              "    <script>\n",
              "      const buttonEl =\n",
              "        document.querySelector('#df-2ab69067-61e1-458b-a62d-58e9da1b56f7 button.colab-df-convert');\n",
              "      buttonEl.style.display =\n",
              "        google.colab.kernel.accessAllowed ? 'block' : 'none';\n",
              "\n",
              "      async function convertToInteractive(key) {\n",
              "        const element = document.querySelector('#df-2ab69067-61e1-458b-a62d-58e9da1b56f7');\n",
              "        const dataTable =\n",
              "          await google.colab.kernel.invokeFunction('convertToInteractive',\n",
              "                                                    [key], {});\n",
              "        if (!dataTable) return;\n",
              "\n",
              "        const docLinkHtml = 'Like what you see? Visit the ' +\n",
              "          '<a target=\"_blank\" href=https://colab.research.google.com/notebooks/data_table.ipynb>data table notebook</a>'\n",
              "          + ' to learn more about interactive tables.';\n",
              "        element.innerHTML = '';\n",
              "        dataTable['output_type'] = 'display_data';\n",
              "        await google.colab.output.renderOutput(dataTable, element);\n",
              "        const docLink = document.createElement('div');\n",
              "        docLink.innerHTML = docLinkHtml;\n",
              "        element.appendChild(docLink);\n",
              "      }\n",
              "    </script>\n",
              "  </div>\n",
              "\n",
              "\n",
              "    <div id=\"df-41bc4e14-8f54-4ae8-97de-fb316298ec15\">\n",
              "      <button class=\"colab-df-quickchart\" onclick=\"quickchart('df-41bc4e14-8f54-4ae8-97de-fb316298ec15')\"\n",
              "                title=\"Suggest charts\"\n",
              "                style=\"display:none;\">\n",
              "\n",
              "<svg xmlns=\"http://www.w3.org/2000/svg\" height=\"24px\"viewBox=\"0 0 24 24\"\n",
              "     width=\"24px\">\n",
              "    <g>\n",
              "        <path d=\"M19 3H5c-1.1 0-2 .9-2 2v14c0 1.1.9 2 2 2h14c1.1 0 2-.9 2-2V5c0-1.1-.9-2-2-2zM9 17H7v-7h2v7zm4 0h-2V7h2v10zm4 0h-2v-4h2v4z\"/>\n",
              "    </g>\n",
              "</svg>\n",
              "      </button>\n",
              "\n",
              "<style>\n",
              "  .colab-df-quickchart {\n",
              "      --bg-color: #E8F0FE;\n",
              "      --fill-color: #1967D2;\n",
              "      --hover-bg-color: #E2EBFA;\n",
              "      --hover-fill-color: #174EA6;\n",
              "      --disabled-fill-color: #AAA;\n",
              "      --disabled-bg-color: #DDD;\n",
              "  }\n",
              "\n",
              "  [theme=dark] .colab-df-quickchart {\n",
              "      --bg-color: #3B4455;\n",
              "      --fill-color: #D2E3FC;\n",
              "      --hover-bg-color: #434B5C;\n",
              "      --hover-fill-color: #FFFFFF;\n",
              "      --disabled-bg-color: #3B4455;\n",
              "      --disabled-fill-color: #666;\n",
              "  }\n",
              "\n",
              "  .colab-df-quickchart {\n",
              "    background-color: var(--bg-color);\n",
              "    border: none;\n",
              "    border-radius: 50%;\n",
              "    cursor: pointer;\n",
              "    display: none;\n",
              "    fill: var(--fill-color);\n",
              "    height: 32px;\n",
              "    padding: 0;\n",
              "    width: 32px;\n",
              "  }\n",
              "\n",
              "  .colab-df-quickchart:hover {\n",
              "    background-color: var(--hover-bg-color);\n",
              "    box-shadow: 0 1px 2px rgba(60, 64, 67, 0.3), 0 1px 3px 1px rgba(60, 64, 67, 0.15);\n",
              "    fill: var(--button-hover-fill-color);\n",
              "  }\n",
              "\n",
              "  .colab-df-quickchart-complete:disabled,\n",
              "  .colab-df-quickchart-complete:disabled:hover {\n",
              "    background-color: var(--disabled-bg-color);\n",
              "    fill: var(--disabled-fill-color);\n",
              "    box-shadow: none;\n",
              "  }\n",
              "\n",
              "  .colab-df-spinner {\n",
              "    border: 2px solid var(--fill-color);\n",
              "    border-color: transparent;\n",
              "    border-bottom-color: var(--fill-color);\n",
              "    animation:\n",
              "      spin 1s steps(1) infinite;\n",
              "  }\n",
              "\n",
              "  @keyframes spin {\n",
              "    0% {\n",
              "      border-color: transparent;\n",
              "      border-bottom-color: var(--fill-color);\n",
              "      border-left-color: var(--fill-color);\n",
              "    }\n",
              "    20% {\n",
              "      border-color: transparent;\n",
              "      border-left-color: var(--fill-color);\n",
              "      border-top-color: var(--fill-color);\n",
              "    }\n",
              "    30% {\n",
              "      border-color: transparent;\n",
              "      border-left-color: var(--fill-color);\n",
              "      border-top-color: var(--fill-color);\n",
              "      border-right-color: var(--fill-color);\n",
              "    }\n",
              "    40% {\n",
              "      border-color: transparent;\n",
              "      border-right-color: var(--fill-color);\n",
              "      border-top-color: var(--fill-color);\n",
              "    }\n",
              "    60% {\n",
              "      border-color: transparent;\n",
              "      border-right-color: var(--fill-color);\n",
              "    }\n",
              "    80% {\n",
              "      border-color: transparent;\n",
              "      border-right-color: var(--fill-color);\n",
              "      border-bottom-color: var(--fill-color);\n",
              "    }\n",
              "    90% {\n",
              "      border-color: transparent;\n",
              "      border-bottom-color: var(--fill-color);\n",
              "    }\n",
              "  }\n",
              "</style>\n",
              "\n",
              "      <script>\n",
              "        async function quickchart(key) {\n",
              "          const quickchartButtonEl =\n",
              "            document.querySelector('#' + key + ' button');\n",
              "          quickchartButtonEl.disabled = true;  // To prevent multiple clicks.\n",
              "          quickchartButtonEl.classList.add('colab-df-spinner');\n",
              "          try {\n",
              "            const charts = await google.colab.kernel.invokeFunction(\n",
              "                'suggestCharts', [key], {});\n",
              "          } catch (error) {\n",
              "            console.error('Error during call to suggestCharts:', error);\n",
              "          }\n",
              "          quickchartButtonEl.classList.remove('colab-df-spinner');\n",
              "          quickchartButtonEl.classList.add('colab-df-quickchart-complete');\n",
              "        }\n",
              "        (() => {\n",
              "          let quickchartButtonEl =\n",
              "            document.querySelector('#df-41bc4e14-8f54-4ae8-97de-fb316298ec15 button');\n",
              "          quickchartButtonEl.style.display =\n",
              "            google.colab.kernel.accessAllowed ? 'block' : 'none';\n",
              "        })();\n",
              "      </script>\n",
              "    </div>\n",
              "\n",
              "    </div>\n",
              "  </div>\n"
            ],
            "application/vnd.google.colaboratory.intrinsic+json": {
              "type": "dataframe",
              "summary": "{\n  \"name\": \"pd\",\n  \"rows\": 4,\n  \"fields\": [\n    {\n      \"column\": \"Region\",\n      \"properties\": {\n        \"dtype\": \"string\",\n        \"num_unique_values\": 4,\n        \"samples\": [\n          \"East\",\n          \"South\",\n          \"West\"\n        ],\n        \"semantic_type\": \"\",\n        \"description\": \"\"\n      }\n    },\n    {\n      \"column\": \"Sales\",\n      \"properties\": {\n        \"dtype\": \"number\",\n        \"std\": 82,\n        \"min\": 345,\n        \"max\": 546,\n        \"num_unique_values\": 4,\n        \"samples\": [\n          546,\n          456,\n          345\n        ],\n        \"semantic_type\": \"\",\n        \"description\": \"\"\n      }\n    },\n    {\n      \"column\": \"Profit\",\n      \"properties\": {\n        \"dtype\": \"number\",\n        \"std\": 54,\n        \"min\": 78,\n        \"max\": 200,\n        \"num_unique_values\": 4,\n        \"samples\": [\n          200,\n          78,\n          120\n        ],\n        \"semantic_type\": \"\",\n        \"description\": \"\"\n      }\n    }\n  ]\n}"
            }
          },
          "metadata": {},
          "execution_count": 13
        }
      ]
    },
    {
      "cell_type": "code",
      "source": [
        "a=True\n",
        "print(a,type(a))"
      ],
      "metadata": {
        "id": "DQIprUWCeAR3",
        "colab": {
          "base_uri": "https://localhost:8080/"
        },
        "outputId": "e923189b-7f24-406b-a1e5-39c23c594225"
      },
      "execution_count": null,
      "outputs": [
        {
          "output_type": "stream",
          "name": "stdout",
          "text": [
            "True <class 'bool'>\n"
          ]
        }
      ]
    },
    {
      "cell_type": "code",
      "source": [
        "salary=56789\n",
        "\n",
        "if salary >= 50000:\n",
        "  print('Manager')\n",
        "elif salary >= 30000:\n",
        "    print('Jr Manager')\n",
        "elif salary >= 20000:\n",
        "    print('Executive')\n",
        "else:\n",
        "      print('Intern')"
      ],
      "metadata": {
        "colab": {
          "base_uri": "https://localhost:8080/"
        },
        "id": "VKDGxk7RfDDO",
        "outputId": "df1624ac-c43b-43af-ee92-2e5fac5fcaee"
      },
      "execution_count": null,
      "outputs": [
        {
          "output_type": "stream",
          "name": "stdout",
          "text": [
            "Manager\n"
          ]
        }
      ]
    },
    {
      "cell_type": "code",
      "source": [
        "import numpy as np\n",
        "np.random.randint(10000,60000,5)"
      ],
      "metadata": {
        "colab": {
          "base_uri": "https://localhost:8080/"
        },
        "id": "NaskiNLWfB8e",
        "outputId": "462dcf07-e7d8-44f4-b7cf-823384b3f142"
      },
      "execution_count": null,
      "outputs": [
        {
          "output_type": "execute_result",
          "data": {
            "text/plain": [
              "array([26451, 53324, 39744, 13396, 23759])"
            ]
          },
          "metadata": {},
          "execution_count": 24
        }
      ]
    },
    {
      "cell_type": "code",
      "source": [
        "import numpy as np\n",
        "salary=(np.random.randint(10000,60000,5))"
      ],
      "metadata": {
        "id": "M9E84zGphKJo"
      },
      "execution_count": null,
      "outputs": []
    },
    {
      "cell_type": "code",
      "source": [
        " import random\n",
        "comp_choice = random.randint(1,10)\n",
        "user_choice = int(input('Enter your choice(1-10):'))\n",
        "print(f'''\n",
        "User choice: {user_choice}\n",
        "Computer Choice: {comp_choice}''')\n",
        "if user_choice == comp_choice:\n",
        "  print('User won, Comp Lose!!')\n",
        "else:\n",
        "    print('Better Luck Next Time!!')"
      ],
      "metadata": {
        "colab": {
          "base_uri": "https://localhost:8080/"
        },
        "id": "7L0YPkbxuwFN",
        "outputId": "87b9dd27-1912-46e6-928c-82a6f864f106"
      },
      "execution_count": null,
      "outputs": [
        {
          "output_type": "stream",
          "name": "stdout",
          "text": [
            "Enter your choice(1-10):9\n",
            "\n",
            "User choice: 9\n",
            "Computer Choice: 9\n",
            "User won, Comp Lose!!\n"
          ]
        }
      ]
    },
    {
      "cell_type": "code",
      "source": [
        "choices = ['Rock','Paper','Scissor']\n",
        "import random\n",
        "comp_choice = random.choice(choices)\n",
        "user_choice = input('Enter your choice(Rock/Paper/Scissor):')\n",
        "print(f'''\n",
        "User choice: {user_choice}\n",
        "Computer Choice: {comp_choice}''')\n",
        "\n",
        "\n"
      ],
      "metadata": {
        "colab": {
          "base_uri": "https://localhost:8080/"
        },
        "id": "z4TXcak1wyCF",
        "outputId": "0f4f83a5-5c47-492f-a7c3-26132517d5ab"
      },
      "execution_count": null,
      "outputs": [
        {
          "output_type": "stream",
          "name": "stdout",
          "text": [
            "Enter your choice(Rock/Paper/Scissor):paper\n",
            "\n",
            "User choice: paper\n",
            "Computer Choice: Scissor\n"
          ]
        }
      ]
    },
    {
      "cell_type": "code",
      "source": [
        " Questions = {1:'What is the capital of Australia?',\n",
        "             2:'Who invented the telephone?',\n",
        "             3:'Which planet is known as the Red Planet?',\n",
        "             4:'In which year did India gain independence?',\n",
        "             5:'What is the largest organ in the human body?'}\n",
        "\n",
        "options = {1:'''A) Sydney\n",
        "B) Melbourne\n",
        "C) Canberra\n",
        "D) Perth''',\n",
        "           2:'''A) Albert Einstein\n",
        "B) Isaac Newton\n",
        "C) Alexander Graham Bell\n",
        "D) Thomas Edison''',\n",
        "           3:'''A) Earth\n",
        "B) Venus\n",
        "C) Jupiter\n",
        "D) Mars''',\n",
        "           4:'''A) 1945\n",
        "B) 1946\n",
        "C) 1947\n",
        "D) 1950''',\n",
        "           5:'''A) Liver\n",
        "B) Brain\n",
        "C) Skin\n",
        "D) Heart'''}\n",
        "\n",
        "\n",
        "correct_op = ['C','C','D','C','C']\n",
        "\n",
        "for i in range(1,len(Questions)+1):\n",
        "  print(Questions[i])\n",
        "  print(options[i])"
      ],
      "metadata": {
        "colab": {
          "base_uri": "https://localhost:8080/"
        },
        "id": "ttcPmwcA0i-M",
        "outputId": "6e4d523a-7f98-4d0d-8df2-2a4d98268b0b"
      },
      "execution_count": null,
      "outputs": [
        {
          "output_type": "stream",
          "name": "stdout",
          "text": [
            "What is the capital of Australia?\n",
            "A) Sydney\n",
            "B) Melbourne\n",
            "C) Canberra\n",
            "D) Perth\n",
            "Who invented the telephone?\n",
            "A) Albert Einstein\n",
            "B) Isaac Newton\n",
            "C) Alexander Graham Bell\n",
            "D) Thomas Edison\n",
            "Which planet is known as the Red Planet?\n",
            "A) Earth\n",
            "B) Venus\n",
            "C) Jupiter\n",
            "D) Mars\n",
            "In which year did India gain independence?\n",
            "A) 1945\n",
            "B) 1946\n",
            "C) 1947\n",
            "D) 1950\n",
            "What is the largest organ in the human body?\n",
            "A) Liver\n",
            "B) Brain\n",
            "C) Skin\n",
            "D) Heart\n"
          ]
        }
      ]
    },
    {
      "cell_type": "code",
      "source": [
        "Questions = {1:'What is the capital of Australia?',\n",
        "             2:'Who invented the telephone?',\n",
        "             3:'Which planet is known as the Red Planet?',\n",
        "             4:'In which year did India gain independence?',\n",
        "             5:'What is the largest organ in the human body?'}\n",
        "\n",
        "options = {1:'''A) Sydney\n",
        "B) Melbourne\n",
        "C) Canberra\n",
        "D) Perth''',\n",
        "           2:'''A) Albert Einstein\n",
        "B) Isaac Newton\n",
        "C) Alexander Graham Bell\n",
        "D) Thomas Edison''',\n",
        "           3:'''A) Earth\n",
        "B) Venus\n",
        "C) Jupiter\n",
        "D) Mars''',\n",
        "           4:'''A) 1945\n",
        "B) 1946\n",
        "C) 1947\n",
        "D) 1950''',\n",
        "           5:'''A) Liver\n",
        "B) Brain\n",
        "C) Skin\n",
        "D) Heart'''}\n",
        "\n",
        "win_ammount = 0\n",
        "\n",
        "correct_op = ['C','C','D','C','C']\n",
        "\n",
        "for i in range(1,len(Questions)+1):\n",
        "  print(f'Question {i}: ',Questions[i])\n",
        "  print(options[i])\n",
        "  user_choice = input('Enter your choice: ').upper()\n",
        "\n",
        "  correct_ans = correct_op[i-1]\n",
        "  # print(correct_ans)\n",
        "  if user_choice == correct_ans:\n",
        "    win_ammount += 10000\n",
        "    print('Correct Answer!!')\n",
        "    print(end = '\\n'*3)\n",
        "\n",
        "  else:\n",
        "    print('Better luck next time!!')\n",
        "    break\n",
        "\n",
        "\n",
        "print('Total Amount',win_ammount)"
      ],
      "metadata": {
        "id": "OJra_aGh1eI8",
        "colab": {
          "base_uri": "https://localhost:8080/"
        },
        "outputId": "474bf062-14a4-477a-eb61-d51d9ee3ea1c"
      },
      "execution_count": null,
      "outputs": [
        {
          "output_type": "stream",
          "name": "stdout",
          "text": [
            "Question 1:  What is the capital of Australia?\n",
            "A) Sydney\n",
            "B) Melbourne\n",
            "C) Canberra\n",
            "D) Perth\n",
            "Enter your choice: c\n",
            "Correct Answer!!\n",
            "\n",
            "\n",
            "\n",
            "Question 2:  Who invented the telephone?\n",
            "A) Albert Einstein\n",
            "B) Isaac Newton\n",
            "C) Alexander Graham Bell\n",
            "D) Thomas Edison\n",
            "Enter your choice: d\n",
            "Better luck next time!!\n",
            "Total Amount 10000\n"
          ]
        }
      ]
    },
    {
      "cell_type": "code",
      "source": [
        "def say_hello(name):\n",
        "  print(f'Hello {name},','how are you??')"
      ],
      "metadata": {
        "id": "yKokTQQx6uWA"
      },
      "execution_count": null,
      "outputs": []
    },
    {
      "cell_type": "code",
      "source": [
        "say_hello('Anshika')"
      ],
      "metadata": {
        "colab": {
          "base_uri": "https://localhost:8080/"
        },
        "id": "IlJAL8tA6zJ-",
        "outputId": "9cef6a7a-1d0d-4477-c723-511e02cc1fc9"
      },
      "execution_count": null,
      "outputs": [
        {
          "output_type": "stream",
          "name": "stdout",
          "text": [
            "Hello Anshika, how are you??\n"
          ]
        }
      ]
    },
    {
      "cell_type": "code",
      "source": [
        "def vote(age):\n",
        "  print('can Vote!!') if age >= 18 else print('can not Vote!!')"
      ],
      "metadata": {
        "id": "JUD0wjN78le4"
      },
      "execution_count": null,
      "outputs": []
    },
    {
      "cell_type": "code",
      "source": [
        "vote(20)"
      ],
      "metadata": {
        "colab": {
          "base_uri": "https://localhost:8080/"
        },
        "id": "4Cy2SEjF8n72",
        "outputId": "faed1577-ddf2-49d3-d8e2-b20b549b483d"
      },
      "execution_count": null,
      "outputs": [
        {
          "output_type": "stream",
          "name": "stdout",
          "text": [
            "can Vote!!\n"
          ]
        }
      ]
    },
    {
      "cell_type": "code",
      "source": [
        "# pip install gTTS"
      ],
      "metadata": {
        "colab": {
          "base_uri": "https://localhost:8080/"
        },
        "id": "FPXNiZyC8sdj",
        "outputId": "6c9058f7-14c0-4932-f45f-bb962dc7eda9"
      },
      "execution_count": null,
      "outputs": [
        {
          "output_type": "stream",
          "name": "stdout",
          "text": [
            "Collecting gTTS\n",
            "  Downloading gTTS-2.5.4-py3-none-any.whl.metadata (4.1 kB)\n",
            "Requirement already satisfied: requests<3,>=2.27 in /usr/local/lib/python3.11/dist-packages (from gTTS) (2.32.3)\n",
            "Collecting click<8.2,>=7.1 (from gTTS)\n",
            "  Downloading click-8.1.8-py3-none-any.whl.metadata (2.3 kB)\n",
            "Requirement already satisfied: charset-normalizer<4,>=2 in /usr/local/lib/python3.11/dist-packages (from requests<3,>=2.27->gTTS) (3.4.2)\n",
            "Requirement already satisfied: idna<4,>=2.5 in /usr/local/lib/python3.11/dist-packages (from requests<3,>=2.27->gTTS) (3.10)\n",
            "Requirement already satisfied: urllib3<3,>=1.21.1 in /usr/local/lib/python3.11/dist-packages (from requests<3,>=2.27->gTTS) (2.4.0)\n",
            "Requirement already satisfied: certifi>=2017.4.17 in /usr/local/lib/python3.11/dist-packages (from requests<3,>=2.27->gTTS) (2025.6.15)\n",
            "Downloading gTTS-2.5.4-py3-none-any.whl (29 kB)\n",
            "Downloading click-8.1.8-py3-none-any.whl (98 kB)\n",
            "\u001b[2K   \u001b[90m━━━━━━━━━━━━━━━━━━━━━━━━━━━━━━━━━━━━━━━━\u001b[0m \u001b[32m98.2/98.2 kB\u001b[0m \u001b[31m9.4 MB/s\u001b[0m eta \u001b[36m0:00:00\u001b[0m\n",
            "\u001b[?25hInstalling collected packages: click, gTTS\n",
            "  Attempting uninstall: click\n",
            "    Found existing installation: click 8.2.1\n",
            "    Uninstalling click-8.2.1:\n",
            "      Successfully uninstalled click-8.2.1\n",
            "Successfully installed click-8.1.8 gTTS-2.5.4\n"
          ]
        }
      ]
    },
    {
      "cell_type": "code",
      "source": [
        "from gtts import gTTs\n",
        "text = '''Paytm par 50 rs Prapt Hue.'''\n",
        "audio = gTTs(text)\n",
        "audio.save('paytm.mp3')\n",
        "\n",
        "import pygame as p\n",
        "p.init()\n",
        "\n",
        "music = p.mixer.Sound('paytm.mp3')\n",
        "music.play()\n",
        "\n"
      ],
      "metadata": {
        "colab": {
          "base_uri": "https://localhost:8080/",
          "height": 383
        },
        "id": "K5ZDMYau8-gF",
        "outputId": "bded7b37-8f10-4033-c677-3446e842ae62"
      },
      "execution_count": null,
      "outputs": [
        {
          "output_type": "error",
          "ename": "ImportError",
          "evalue": "cannot import name 'gTTs' from 'gtts' (/usr/local/lib/python3.11/dist-packages/gtts/__init__.py)",
          "traceback": [
            "\u001b[0;31m---------------------------------------------------------------------------\u001b[0m",
            "\u001b[0;31mImportError\u001b[0m                               Traceback (most recent call last)",
            "\u001b[0;32m/tmp/ipython-input-76-885754774.py\u001b[0m in \u001b[0;36m<cell line: 0>\u001b[0;34m()\u001b[0m\n\u001b[0;32m----> 1\u001b[0;31m \u001b[0;32mfrom\u001b[0m \u001b[0mgtts\u001b[0m \u001b[0;32mimport\u001b[0m \u001b[0mgTTs\u001b[0m\u001b[0;34m\u001b[0m\u001b[0;34m\u001b[0m\u001b[0m\n\u001b[0m\u001b[1;32m      2\u001b[0m \u001b[0mtext\u001b[0m \u001b[0;34m=\u001b[0m \u001b[0;34m'''Paytm par 50 rs Prapt Hue.'''\u001b[0m\u001b[0;34m\u001b[0m\u001b[0;34m\u001b[0m\u001b[0m\n\u001b[1;32m      3\u001b[0m \u001b[0maudio\u001b[0m \u001b[0;34m=\u001b[0m \u001b[0mgTTs\u001b[0m\u001b[0;34m(\u001b[0m\u001b[0mtext\u001b[0m\u001b[0;34m)\u001b[0m\u001b[0;34m\u001b[0m\u001b[0;34m\u001b[0m\u001b[0m\n\u001b[1;32m      4\u001b[0m \u001b[0maudio\u001b[0m\u001b[0;34m.\u001b[0m\u001b[0msave\u001b[0m\u001b[0;34m(\u001b[0m\u001b[0;34m'paytm.mp3'\u001b[0m\u001b[0;34m)\u001b[0m\u001b[0;34m\u001b[0m\u001b[0;34m\u001b[0m\u001b[0m\n\u001b[1;32m      5\u001b[0m \u001b[0;34m\u001b[0m\u001b[0m\n",
            "\u001b[0;31mImportError\u001b[0m: cannot import name 'gTTs' from 'gtts' (/usr/local/lib/python3.11/dist-packages/gtts/__init__.py)",
            "",
            "\u001b[0;31m---------------------------------------------------------------------------\u001b[0;32m\nNOTE: If your import is failing due to a missing package, you can\nmanually install dependencies using either !pip or !apt.\n\nTo view examples of installing some common dependencies, click the\n\"Open Examples\" button below.\n\u001b[0;31m---------------------------------------------------------------------------\u001b[0m\n"
          ],
          "errorDetails": {
            "actions": [
              {
                "action": "open_url",
                "actionText": "Open Examples",
                "url": "/notebooks/snippets/importing_libraries.ipynb"
              }
            ]
          }
        }
      ]
    },
    {
      "cell_type": "code",
      "source": [
        "# pip install pygame"
      ],
      "metadata": {
        "colab": {
          "base_uri": "https://localhost:8080/"
        },
        "id": "tv__upNe-qlM",
        "outputId": "3a90acad-083d-4a13-8c47-64357bc42055"
      },
      "execution_count": null,
      "outputs": [
        {
          "output_type": "stream",
          "name": "stdout",
          "text": [
            "Requirement already satisfied: pygame in /usr/local/lib/python3.11/dist-packages (2.6.1)\n"
          ]
        }
      ]
    },
    {
      "cell_type": "code",
      "source": [
        "from gtts import gTTS\n",
        "text  = '''Paytm par 50 rs Prapt hue.'''\n",
        "audio = gTTS(text)\n",
        "audio.save('paytm.mp3')\n",
        "\n",
        "import pygame as p\n",
        "p.init()\n",
        "\n",
        "music = p.mixer.Sound('/content/paytm.mp3')\n",
        "music.play()"
      ],
      "metadata": {
        "colab": {
          "base_uri": "https://localhost:8080/",
          "height": 228
        },
        "id": "ATzhzDjj-0Ay",
        "outputId": "a31cef8e-c7ce-4869-f00f-0933d2b8c468"
      },
      "execution_count": null,
      "outputs": [
        {
          "output_type": "stream",
          "name": "stdout",
          "text": [
            "pygame 2.6.1 (SDL 2.28.4, Python 3.11.13)\n",
            "Hello from the pygame community. https://www.pygame.org/contribute.html\n"
          ]
        },
        {
          "output_type": "error",
          "ename": "error",
          "evalue": "mixer not initialized",
          "traceback": [
            "\u001b[0;31m---------------------------------------------------------------------------\u001b[0m",
            "\u001b[0;31merror\u001b[0m                                     Traceback (most recent call last)",
            "\u001b[0;32m/tmp/ipython-input-77-570976983.py\u001b[0m in \u001b[0;36m<cell line: 0>\u001b[0;34m()\u001b[0m\n\u001b[1;32m      7\u001b[0m \u001b[0mp\u001b[0m\u001b[0;34m.\u001b[0m\u001b[0minit\u001b[0m\u001b[0;34m(\u001b[0m\u001b[0;34m)\u001b[0m\u001b[0;34m\u001b[0m\u001b[0;34m\u001b[0m\u001b[0m\n\u001b[1;32m      8\u001b[0m \u001b[0;34m\u001b[0m\u001b[0m\n\u001b[0;32m----> 9\u001b[0;31m \u001b[0mmusic\u001b[0m \u001b[0;34m=\u001b[0m \u001b[0mp\u001b[0m\u001b[0;34m.\u001b[0m\u001b[0mmixer\u001b[0m\u001b[0;34m.\u001b[0m\u001b[0mSound\u001b[0m\u001b[0;34m(\u001b[0m\u001b[0;34m'/content/paytm.mp3'\u001b[0m\u001b[0;34m)\u001b[0m\u001b[0;34m\u001b[0m\u001b[0;34m\u001b[0m\u001b[0m\n\u001b[0m\u001b[1;32m     10\u001b[0m \u001b[0mmusic\u001b[0m\u001b[0;34m.\u001b[0m\u001b[0mplay\u001b[0m\u001b[0;34m(\u001b[0m\u001b[0;34m)\u001b[0m\u001b[0;34m\u001b[0m\u001b[0;34m\u001b[0m\u001b[0m\n",
            "\u001b[0;31merror\u001b[0m: mixer not initialized"
          ]
        }
      ]
    },
    {
      "cell_type": "code",
      "source": [],
      "metadata": {
        "id": "3n_9DkNSDWl4"
      },
      "execution_count": null,
      "outputs": []
    }
  ]
}